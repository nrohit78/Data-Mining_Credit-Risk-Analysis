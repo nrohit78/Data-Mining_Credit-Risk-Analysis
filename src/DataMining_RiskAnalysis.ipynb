{
 "cells": [
  {
   "cell_type": "code",
   "execution_count": 1,
   "metadata": {},
   "outputs": [],
   "source": [
    "from sklearn.metrics import make_scorer, accuracy_score\n",
    "from sklearn.model_selection import train_test_split\n",
    "from sklearn.ensemble import RandomForestClassifier\n",
    "from sklearn.linear_model import LogisticRegression\n",
    "from sklearn.metrics import classification_report\n",
    "from sklearn.metrics import confusion_matrix\n",
    "from sklearn.metrics import average_precision_score,roc_auc_score\n",
    "from sklearn.metrics import f1_score,roc_curve,recall_score\n",
    "from sklearn import preprocessing\n",
    "from sklearn.preprocessing import StandardScaler\n",
    "from sklearn.ensemble import ExtraTreesClassifier\n",
    "from sklearn.model_selection import RandomizedSearchCV\n",
    "from xgboost.sklearn import XGBClassifier\n",
    "from sklearn.model_selection import cross_val_score\n",
    "from sklearn import metrics\n",
    "\n",
    "import matplotlib.pylab as pylab\n",
    "import matplotlib.pyplot as plt\n",
    "from pandas import get_dummies\n",
    "import matplotlib as mpl\n",
    "from scipy import stats\n",
    "import xgboost as xgb\n",
    "import seaborn as sns\n",
    "import pandas as pd\n",
    "import numpy as np\n",
    "import matplotlib\n",
    "import warnings\n",
    "pd.options.display.max_rows = 100\n"
   ]
  },
  {
   "cell_type": "code",
   "execution_count": 2,
   "metadata": {},
   "outputs": [],
   "source": [
    "#to ignore warnings\n",
    "warnings.filterwarnings('ignore')\n",
    "%matplotlib inline"
   ]
  },
  {
   "cell_type": "code",
   "execution_count": 3,
   "metadata": {},
   "outputs": [],
   "source": [
    "#cat mean table where each values of mean is calculated based on some variable value\n",
    "def get_mean_table(dat, var, targ, diff = 1, drp = [], rnd = 2, freq = 0, prt_gps = 0, drp_flg = 1):\n",
    "\t'''\n",
    "\tdat: name of the dataframe\n",
    "\tvar: feature for the dummies to be made\n",
    "\ttarg: target on which grouping should be decided (currently by mean)\n",
    "\tdiff: the range for grouping (eg - 0.5 will be 1-0.5, 0.5-2); default = 1\n",
    "\tdrp: specific elements of the feature (like \"nan\", \"Na\", \"other\", \"Unknown\") to be dropped\n",
    "\trnd: the no of placed to be rounded; default = 2\n",
    "\tfreq: min count of elements to make dummies; default = 0\n",
    "\tprt_gps: gives group view\n",
    "\t'''\n",
    "\tdata = dat[dat.columns]\n",
    "\tif data[var].dtypes != \"object\":\n",
    "\t\tdata[var] = data[var].astype(str)\n",
    "\ttab = data[var].value_counts(ascending = False)                          #find the counts of elements\n",
    "\ttabInd = tab.index                                                       #get all the elements\n",
    "\tif drp_flg == 0:\n",
    "\t\ttab = tab[tab>=freq]                                                 #get elements which surpass freq threshold and exclude least frequent\n",
    "\telse:\n",
    "\t\ttab = tab[tab>=freq][:-1] \n",
    "\ttab_drp = tab.index\n",
    "\ttab_drp = list(tabInd[np.logical_not(tabInd.isin(tab_drp))])            #get all the elements which doest qualify freq threshold\n",
    "\ttab_drp.extend(drp)                                                     #concat all the usr specified drp elements\n",
    "\tif len(tab_drp) > 0:\n",
    "\t\tdata[var] = np.where(data[var].isin(tab_drp),\"drp@567\",data[var])   #replace all the drop elements with drp@123\n",
    "\t\tnewtab = (data[[var,targ]].groupby(var)[targ].mean().round(rnd).drop([\"drp@567\"]).sort_values()) #get a crosstab of var and targ with mean; drp all the replaced elements\n",
    "\telse: \n",
    "\t\tnewtab = (data[[var,targ]].groupby(var)[targ].mean().round(rnd).sort_values())\n",
    "\tnewtab_rtn = newtab\n",
    "\n",
    "\tintro_text = \"Visual\"\n",
    "\tintro_text = intro_text+\" grouped tables\" if prt_gps == 1 else intro_text+\" table\"\n",
    "\tintro_text = intro_text+\" with drop for \" if drp_flg == 1 else intro_text+\" without drop for \"\n",
    "\tprint(\"\\n\\n--------------------\\n--------------------\\n\",intro_text,var,sep=\"\")\n",
    "\tif prt_gps != 0:\n",
    "\t\tcnt = 0\n",
    "\t\twhile(not newtab.empty):                                         #cut the loop as soon as mean table is empty\n",
    "\t\t\tleast = newtab[0]                                            #current min value of the mean table\n",
    "\t\t\tupper_bond = least+diff                                      #get the upper bound by adding the use specified difference\n",
    "\t\t\tsmol_tab = newtab[np.logical_and(newtab.values>=least, newtab <upper_bond)] #get the elements of specified range\n",
    "\t\t\tsmol_tab = pd.merge(left=smol_tab,right=tab,right_index=True,left_index=True,how=\"left\")\n",
    "\t\t\tsmol_tab.columns=[\"mean\",\"count\"]\n",
    "\t\t\tprint(smol_tab)\n",
    "\t\t\tprint(\"Total count =  \", sum(smol_tab[\"count\"]), end=\"\\n-----------\\n\\n\")\n",
    "\t\t\tnewtab=newtab.drop(smol_tab.index)\n",
    "\t\t\tcnt = cnt+1\n",
    "\t\tprint(\"no of new groups\", cnt, end=\"\\n-----------\\n\\n\")\n",
    "\n",
    "\tnewtab_rtn = pd.merge(left=newtab_rtn,right=tab,right_index=True,left_index=True,how=\"left\")\n",
    "\tnewtab_rtn.columns=[\"mean\",\"count\"]\n",
    "\tno_rcs_cvd, ttl_rcd = sum(newtab_rtn[\"count\"]),data.shape[0]\n",
    "\trcs_pcd = round((no_rcs_cvd/ttl_rcd)*100,2)\n",
    "\tprint(\"no of records covered =\",no_rcs_cvd,\"out of\",ttl_rcd, \"i.e.\",rcs_pcd)\n",
    "\tprint(\"no of rows: \",newtab_rtn.shape[0])\n",
    "\treturn(newtab_rtn)"
   ]
  },
  {
   "cell_type": "code",
   "execution_count": 4,
   "metadata": {},
   "outputs": [],
   "source": [
    "#creating dummies\n",
    "def getting_dummies(dat,var,freq = 0, drp_flg = False, drp = []):\n",
    "\tdata= dat[dat.columns]\n",
    "\ttab = data[var].value_counts(ascending = False)\n",
    "\ttab = tab.index[tab>=freq][:-1].tolist() if drp_flg else tab.index[tab>=freq].tolist()\n",
    "\tfor i in drp: tab.remove(i)\n",
    "\tprint(\"\\n\\n--------------------\\n--------------------\\nDummies for\",var)\n",
    "\tprint(\"no of new columns from\",var,\"is\",len(tab))\n",
    "\tprint(tab)\n",
    "\tto_return_df = pd.DataFrame({\"delthis\":np.arange(data.shape[0])})#new dummies dataframe\n",
    "\tfor i in tab:\n",
    "\t\tj = str(i)\n",
    "\t\tj = j.replace(\" \",\"_\")\n",
    "\t\tnamee = var+\"_\"+j\n",
    "\t\tto_return_df[namee]=(data[var]==i).astype(int)\n",
    "\tto_return_df.drop([\"delthis\"],axis=1,inplace=True)\n",
    "\treturn to_return_df"
   ]
  },
  {
   "cell_type": "code",
   "execution_count": 5,
   "metadata": {},
   "outputs": [],
   "source": [
    "#generating report for tuning\n",
    "def my_random_forest_report(cv_results, n_top=3):\n",
    "    '''\n",
    "    cv_results: Takes the randomForest_object.cv_results_\n",
    "    n_top: No of top results to be displayed\n",
    "    \n",
    "    Description:\n",
    "        randomForest_object.cv_results_ gives a long list of attributes.\n",
    "        This report function retuns only the top n from results from that big list in a graspable format.\n",
    "    '''\n",
    "    for i in range(1,n_top+1,1):\n",
    "        rank_indices = np.flatnonzero(cv_results[\"rank_test_score\"]==i)\n",
    "        # the following loop is made because there can be one or more elements of the same rank\n",
    "        for rank_index in rank_indices:\n",
    "            print(\"Model with rank: {0}\".format(i))\n",
    "            print(\"Mean validation score: {0:.4f} (std: {1:.4f})\".format(\n",
    "                cv_results[\"mean_test_score\"][rank_index],\n",
    "                cv_results[\"std_test_score\"][rank_index]))\n",
    "            print(\"Parameters: {0}\".format(cv_results[\"params\"][rank_index]))\n",
    "            print(\"\")"
   ]
  },
  {
   "cell_type": "code",
   "execution_count": 6,
   "metadata": {},
   "outputs": [],
   "source": [
    "#function for filling the mort_acc with total_acc and calculate the mean value for the mort_acc per total_acc entry\n",
    "def fill_mort_acc(total_acc, mort_acc):\n",
    "    if np.isnan(mort_acc):\n",
    "        return bins[total_acc].round()\n",
    "    else:\n",
    "        return mort_acc"
   ]
  },
  {
   "cell_type": "code",
   "execution_count": 7,
   "metadata": {},
   "outputs": [
    {
     "data": {
      "text/html": [
       "<div>\n",
       "<style scoped>\n",
       "    .dataframe tbody tr th:only-of-type {\n",
       "        vertical-align: middle;\n",
       "    }\n",
       "\n",
       "    .dataframe tbody tr th {\n",
       "        vertical-align: top;\n",
       "    }\n",
       "\n",
       "    .dataframe thead th {\n",
       "        text-align: right;\n",
       "    }\n",
       "</style>\n",
       "<table border=\"1\" class=\"dataframe\">\n",
       "  <thead>\n",
       "    <tr style=\"text-align: right;\">\n",
       "      <th></th>\n",
       "      <th>loan_amnt</th>\n",
       "      <th>term</th>\n",
       "      <th>int_rate</th>\n",
       "      <th>installment</th>\n",
       "      <th>grade</th>\n",
       "      <th>sub_grade</th>\n",
       "      <th>emp_title</th>\n",
       "      <th>emp_length</th>\n",
       "      <th>home_ownership</th>\n",
       "      <th>annual_inc</th>\n",
       "      <th>...</th>\n",
       "      <th>open_acc</th>\n",
       "      <th>pub_rec</th>\n",
       "      <th>revol_bal</th>\n",
       "      <th>revol_util</th>\n",
       "      <th>total_acc</th>\n",
       "      <th>initial_list_status</th>\n",
       "      <th>application_type</th>\n",
       "      <th>mort_acc</th>\n",
       "      <th>pub_rec_bankruptcies</th>\n",
       "      <th>address</th>\n",
       "    </tr>\n",
       "  </thead>\n",
       "  <tbody>\n",
       "    <tr>\n",
       "      <th>0</th>\n",
       "      <td>10000.0</td>\n",
       "      <td>36 months</td>\n",
       "      <td>11.44</td>\n",
       "      <td>329.48</td>\n",
       "      <td>B</td>\n",
       "      <td>B4</td>\n",
       "      <td>Marketing</td>\n",
       "      <td>10+ years</td>\n",
       "      <td>RENT</td>\n",
       "      <td>117000.0</td>\n",
       "      <td>...</td>\n",
       "      <td>16.0</td>\n",
       "      <td>0.0</td>\n",
       "      <td>36369.0</td>\n",
       "      <td>41.8</td>\n",
       "      <td>25.0</td>\n",
       "      <td>w</td>\n",
       "      <td>INDIVIDUAL</td>\n",
       "      <td>0.0</td>\n",
       "      <td>0.0</td>\n",
       "      <td>0174 Michelle Gateway\\r\\nMendozaberg, OK 22690</td>\n",
       "    </tr>\n",
       "    <tr>\n",
       "      <th>1</th>\n",
       "      <td>8000.0</td>\n",
       "      <td>36 months</td>\n",
       "      <td>11.99</td>\n",
       "      <td>265.68</td>\n",
       "      <td>B</td>\n",
       "      <td>B5</td>\n",
       "      <td>Credit analyst</td>\n",
       "      <td>4 years</td>\n",
       "      <td>MORTGAGE</td>\n",
       "      <td>65000.0</td>\n",
       "      <td>...</td>\n",
       "      <td>17.0</td>\n",
       "      <td>0.0</td>\n",
       "      <td>20131.0</td>\n",
       "      <td>53.3</td>\n",
       "      <td>27.0</td>\n",
       "      <td>f</td>\n",
       "      <td>INDIVIDUAL</td>\n",
       "      <td>3.0</td>\n",
       "      <td>0.0</td>\n",
       "      <td>1076 Carney Fort Apt. 347\\r\\nLoganmouth, SD 05113</td>\n",
       "    </tr>\n",
       "    <tr>\n",
       "      <th>2</th>\n",
       "      <td>15600.0</td>\n",
       "      <td>36 months</td>\n",
       "      <td>10.49</td>\n",
       "      <td>506.97</td>\n",
       "      <td>B</td>\n",
       "      <td>B3</td>\n",
       "      <td>Statistician</td>\n",
       "      <td>&lt; 1 year</td>\n",
       "      <td>RENT</td>\n",
       "      <td>43057.0</td>\n",
       "      <td>...</td>\n",
       "      <td>13.0</td>\n",
       "      <td>0.0</td>\n",
       "      <td>11987.0</td>\n",
       "      <td>92.2</td>\n",
       "      <td>26.0</td>\n",
       "      <td>f</td>\n",
       "      <td>INDIVIDUAL</td>\n",
       "      <td>0.0</td>\n",
       "      <td>0.0</td>\n",
       "      <td>87025 Mark Dale Apt. 269\\r\\nNew Sabrina, WV 05113</td>\n",
       "    </tr>\n",
       "    <tr>\n",
       "      <th>3</th>\n",
       "      <td>7200.0</td>\n",
       "      <td>36 months</td>\n",
       "      <td>6.49</td>\n",
       "      <td>220.65</td>\n",
       "      <td>A</td>\n",
       "      <td>A2</td>\n",
       "      <td>Client Advocate</td>\n",
       "      <td>6 years</td>\n",
       "      <td>RENT</td>\n",
       "      <td>54000.0</td>\n",
       "      <td>...</td>\n",
       "      <td>6.0</td>\n",
       "      <td>0.0</td>\n",
       "      <td>5472.0</td>\n",
       "      <td>21.5</td>\n",
       "      <td>13.0</td>\n",
       "      <td>f</td>\n",
       "      <td>INDIVIDUAL</td>\n",
       "      <td>0.0</td>\n",
       "      <td>0.0</td>\n",
       "      <td>823 Reid Ford\\r\\nDelacruzside, MA 00813</td>\n",
       "    </tr>\n",
       "    <tr>\n",
       "      <th>4</th>\n",
       "      <td>24375.0</td>\n",
       "      <td>60 months</td>\n",
       "      <td>17.27</td>\n",
       "      <td>609.33</td>\n",
       "      <td>C</td>\n",
       "      <td>C5</td>\n",
       "      <td>Destiny Management Inc.</td>\n",
       "      <td>9 years</td>\n",
       "      <td>MORTGAGE</td>\n",
       "      <td>55000.0</td>\n",
       "      <td>...</td>\n",
       "      <td>13.0</td>\n",
       "      <td>0.0</td>\n",
       "      <td>24584.0</td>\n",
       "      <td>69.8</td>\n",
       "      <td>43.0</td>\n",
       "      <td>f</td>\n",
       "      <td>INDIVIDUAL</td>\n",
       "      <td>1.0</td>\n",
       "      <td>0.0</td>\n",
       "      <td>679 Luna Roads\\r\\nGreggshire, VA 11650</td>\n",
       "    </tr>\n",
       "  </tbody>\n",
       "</table>\n",
       "<p>5 rows × 27 columns</p>\n",
       "</div>"
      ],
      "text/plain": [
       "   loan_amnt        term  int_rate  installment grade sub_grade  \\\n",
       "0    10000.0   36 months     11.44       329.48     B        B4   \n",
       "1     8000.0   36 months     11.99       265.68     B        B5   \n",
       "2    15600.0   36 months     10.49       506.97     B        B3   \n",
       "3     7200.0   36 months      6.49       220.65     A        A2   \n",
       "4    24375.0   60 months     17.27       609.33     C        C5   \n",
       "\n",
       "                 emp_title emp_length home_ownership  annual_inc  ...  \\\n",
       "0                Marketing  10+ years           RENT    117000.0  ...   \n",
       "1          Credit analyst     4 years       MORTGAGE     65000.0  ...   \n",
       "2             Statistician   < 1 year           RENT     43057.0  ...   \n",
       "3          Client Advocate    6 years           RENT     54000.0  ...   \n",
       "4  Destiny Management Inc.    9 years       MORTGAGE     55000.0  ...   \n",
       "\n",
       "  open_acc pub_rec revol_bal revol_util total_acc  initial_list_status  \\\n",
       "0     16.0     0.0   36369.0       41.8      25.0                    w   \n",
       "1     17.0     0.0   20131.0       53.3      27.0                    f   \n",
       "2     13.0     0.0   11987.0       92.2      26.0                    f   \n",
       "3      6.0     0.0    5472.0       21.5      13.0                    f   \n",
       "4     13.0     0.0   24584.0       69.8      43.0                    f   \n",
       "\n",
       "  application_type  mort_acc  pub_rec_bankruptcies  \\\n",
       "0       INDIVIDUAL       0.0                   0.0   \n",
       "1       INDIVIDUAL       3.0                   0.0   \n",
       "2       INDIVIDUAL       0.0                   0.0   \n",
       "3       INDIVIDUAL       0.0                   0.0   \n",
       "4       INDIVIDUAL       1.0                   0.0   \n",
       "\n",
       "                                             address  \n",
       "0     0174 Michelle Gateway\\r\\nMendozaberg, OK 22690  \n",
       "1  1076 Carney Fort Apt. 347\\r\\nLoganmouth, SD 05113  \n",
       "2  87025 Mark Dale Apt. 269\\r\\nNew Sabrina, WV 05113  \n",
       "3            823 Reid Ford\\r\\nDelacruzside, MA 00813  \n",
       "4             679 Luna Roads\\r\\nGreggshire, VA 11650  \n",
       "\n",
       "[5 rows x 27 columns]"
      ]
     },
     "execution_count": 7,
     "metadata": {},
     "output_type": "execute_result"
    }
   ],
   "source": [
    "#loading the dataset\n",
    "dataIn = pd.read_csv(\"lending_club_loan_two.csv\",parse_dates=['issue_d'],infer_datetime_format = True,low_memory=False)\n",
    "dataIn.head()"
   ]
  },
  {
   "cell_type": "code",
   "execution_count": 8,
   "metadata": {},
   "outputs": [],
   "source": [
    "#copying data\n",
    "data = pd.DataFrame.copy(dataIn)"
   ]
  },
  {
   "cell_type": "code",
   "execution_count": 9,
   "metadata": {},
   "outputs": [
    {
     "data": {
      "text/plain": [
       "loan_amnt                   0\n",
       "term                        0\n",
       "int_rate                    0\n",
       "installment                 0\n",
       "grade                       0\n",
       "sub_grade                   0\n",
       "emp_title               22927\n",
       "emp_length              18301\n",
       "home_ownership              0\n",
       "annual_inc                  0\n",
       "verification_status         0\n",
       "issue_d                     0\n",
       "loan_status                 0\n",
       "purpose                     0\n",
       "title                    1755\n",
       "dti                         0\n",
       "earliest_cr_line            0\n",
       "open_acc                    0\n",
       "pub_rec                     0\n",
       "revol_bal                   0\n",
       "revol_util                276\n",
       "total_acc                   0\n",
       "initial_list_status         0\n",
       "application_type            0\n",
       "mort_acc                37795\n",
       "pub_rec_bankruptcies      535\n",
       "address                     0\n",
       "dtype: int64"
      ]
     },
     "execution_count": 9,
     "metadata": {},
     "output_type": "execute_result"
    }
   ],
   "source": [
    "data.isnull().sum()"
   ]
  },
  {
   "cell_type": "code",
   "execution_count": 10,
   "metadata": {},
   "outputs": [
    {
     "data": {
      "text/plain": [
       "(396030, 27)"
      ]
     },
     "execution_count": 10,
     "metadata": {},
     "output_type": "execute_result"
    }
   ],
   "source": [
    "data.shape"
   ]
  },
  {
   "cell_type": "code",
   "execution_count": 11,
   "metadata": {},
   "outputs": [
    {
     "data": {
      "text/plain": [
       "Fully Paid     318357\n",
       "Charged Off     77673\n",
       "Name: loan_status, dtype: int64"
      ]
     },
     "execution_count": 11,
     "metadata": {},
     "output_type": "execute_result"
    }
   ],
   "source": [
    "#count of the y variable\n",
    "data[\"loan_status\"].value_counts()"
   ]
  },
  {
   "cell_type": "code",
   "execution_count": 12,
   "metadata": {},
   "outputs": [],
   "source": [
    "#replacing the categorical variable with 0 and 1\n",
    "data[\"loan_status\"] = data['loan_status'].replace({'Fully Paid': 0, 'Charged Off': 1})"
   ]
  },
  {
   "cell_type": "code",
   "execution_count": 13,
   "metadata": {},
   "outputs": [
    {
     "data": {
      "text/plain": [
       "<AxesSubplot:xlabel='loan_status', ylabel='count'>"
      ]
     },
     "execution_count": 13,
     "metadata": {},
     "output_type": "execute_result"
    },
    {
     "data": {
      "image/png": "[encoded data removed]",
      "text/plain": [
       "<Figure size 432x288 with 1 Axes>"
      ]
     },
     "metadata": {
      "needs_background": "light"
     },
     "output_type": "display_data"
    }
   ],
   "source": [
    "#visualize the loan_status for EDA\n",
    "sns.countplot(data.loan_status)"
   ]
  },
  {
   "cell_type": "code",
   "execution_count": 14,
   "metadata": {},
   "outputs": [
    {
     "data": {
      "image/png": "[encoded data removed]",
      "text/plain": [
       "<Figure size 1440x1080 with 2 Axes>"
      ]
     },
     "metadata": {
      "needs_background": "light"
     },
     "output_type": "display_data"
    }
   ],
   "source": [
    "#finding the correlation\n",
    "data_corrl=data.corr()\n",
    "#ploting the heatmap for finding the co relation\n",
    "f,ax=plt.subplots(figsize=(20,15))\n",
    "sns.heatmap(data_corrl, xticklabels=data_corrl.columns.values,yticklabels=data_corrl.columns.values,annot=True)\n",
    "plt.show()\n"
   ]
  },
  {
   "cell_type": "code",
   "execution_count": 15,
   "metadata": {},
   "outputs": [
    {
     "data": {
      "text/plain": [
       "<AxesSubplot:xlabel='installment', ylabel='loan_amnt'>"
      ]
     },
     "execution_count": 15,
     "metadata": {},
     "output_type": "execute_result"
    },
    {
     "data": {
      "image/png": "[encoded data removed]",
      "text/plain": [
       "<Figure size 432x288 with 1 Axes>"
      ]
     },
     "metadata": {
      "needs_background": "light"
     },
     "output_type": "display_data"
    }
   ],
   "source": [
    "#installment and loan_amnt have perfect co relation\n",
    "#using scatter plot to see the corelation between installment and loan_amount\n",
    "sns.scatterplot(x='installment', y='loan_amnt', data=data)"
   ]
  },
  {
   "cell_type": "code",
   "execution_count": 16,
   "metadata": {},
   "outputs": [
    {
     "data": {
      "text/plain": [
       "<AxesSubplot:xlabel='loan_status', ylabel='loan_amnt'>"
      ]
     },
     "execution_count": 16,
     "metadata": {},
     "output_type": "execute_result"
    },
    {
     "data": {
      "image/png": "[encoded data removed]",
      "text/plain": [
       "<Figure size 432x288 with 1 Axes>"
      ]
     },
     "metadata": {
      "needs_background": "light"
     },
     "output_type": "display_data"
    }
   ],
   "source": [
    "#comparing loan_amount with y varibale using boxplot\n",
    "sns.boxplot(x='loan_status', y='loan_amnt', data=data)"
   ]
  },
  {
   "cell_type": "code",
   "execution_count": 17,
   "metadata": {},
   "outputs": [
    {
     "data": {
      "text/plain": [
       "array(['B', 'A', 'C', 'E', 'D', 'F', 'G'], dtype=object)"
      ]
     },
     "execution_count": 17,
     "metadata": {},
     "output_type": "execute_result"
    }
   ],
   "source": [
    "#exploring the grade \n",
    "data.grade.unique()"
   ]
  },
  {
   "cell_type": "code",
   "execution_count": 18,
   "metadata": {},
   "outputs": [
    {
     "data": {
      "text/plain": [
       "array(['B4', 'B5', 'B3', 'A2', 'C5', 'C3', 'A1', 'B2', 'C1', 'A5', 'E4',\n",
       "       'A4', 'A3', 'D1', 'C2', 'B1', 'D3', 'D5', 'D2', 'E1', 'E2', 'E5',\n",
       "       'F4', 'E3', 'D4', 'G1', 'F5', 'G2', 'C4', 'F1', 'F3', 'G5', 'G4',\n",
       "       'F2', 'G3'], dtype=object)"
      ]
     },
     "execution_count": 18,
     "metadata": {},
     "output_type": "execute_result"
    }
   ],
   "source": [
    "#exploring the grade \n",
    "data.sub_grade.unique()"
   ]
  },
  {
   "cell_type": "code",
   "execution_count": 19,
   "metadata": {},
   "outputs": [
    {
     "data": {
      "text/plain": [
       "<AxesSubplot:xlabel='grade', ylabel='count'>"
      ]
     },
     "execution_count": 19,
     "metadata": {},
     "output_type": "execute_result"
    },
    {
     "data": {
      "image/png": "[encoded data removed]",
      "text/plain": [
       "<Figure size 432x288 with 1 Axes>"
      ]
     },
     "metadata": {
      "needs_background": "light"
     },
     "output_type": "display_data"
    }
   ],
   "source": [
    "#seeing counts of grade and loan_status using histogram\n",
    "sns.countplot(x='grade', data=data, hue='loan_status')"
   ]
  },
  {
   "cell_type": "code",
   "execution_count": 20,
   "metadata": {},
   "outputs": [
    {
     "data": {
      "image/png": "[encoded data removed]",
      "text/plain": [
       "<Figure size 432x288 with 1 Axes>"
      ]
     },
     "metadata": {
      "needs_background": "light"
     },
     "output_type": "display_data"
    }
   ],
   "source": [
    "#seeing counts of sub_grade and loan_status using histogram\n",
    "sgrade = sns.countplot(x='sub_grade', data=data, hue='loan_status')\n",
    "sgrade.set_xticklabels(sgrade.get_xticklabels(), rotation=90);"
   ]
  },
  {
   "cell_type": "code",
   "execution_count": 21,
   "metadata": {},
   "outputs": [],
   "source": [
    "#grade and subgrade F and G have no significant contribution on loan_status hence we can ignore them"
   ]
  },
  {
   "cell_type": "code",
   "execution_count": 22,
   "metadata": {},
   "outputs": [
    {
     "data": {
      "text/plain": [
       "debt_consolidation    234507\n",
       "credit_card            83019\n",
       "home_improvement       24030\n",
       "other                  21185\n",
       "major_purchase          8790\n",
       "small_business          5701\n",
       "car                     4697\n",
       "medical                 4196\n",
       "moving                  2854\n",
       "vacation                2452\n",
       "house                   2201\n",
       "wedding                 1812\n",
       "renewable_energy         329\n",
       "educational              257\n",
       "Name: purpose, dtype: int64"
      ]
     },
     "execution_count": 22,
     "metadata": {},
     "output_type": "execute_result"
    }
   ],
   "source": [
    "#purpose count \n",
    "data.purpose.value_counts()"
   ]
  },
  {
   "cell_type": "code",
   "execution_count": 23,
   "metadata": {},
   "outputs": [],
   "source": [
    "#mering the values that are less than a threshold 10000\n",
    "cond = data['purpose'].value_counts()\n",
    "threshold = 10000\n",
    "data['purpose'] = np.where(data['purpose'].isin(cond.index[cond >= threshold ]), data['purpose'], 'miscellaneous')"
   ]
  },
  {
   "cell_type": "code",
   "execution_count": 24,
   "metadata": {},
   "outputs": [
    {
     "data": {
      "text/plain": [
       "debt_consolidation    234507\n",
       "credit_card            83019\n",
       "miscellaneous          33289\n",
       "home_improvement       24030\n",
       "other                  21185\n",
       "Name: purpose, dtype: int64"
      ]
     },
     "execution_count": 24,
     "metadata": {},
     "output_type": "execute_result"
    }
   ],
   "source": [
    "#reverifying the purpose var\n",
    "data.purpose.value_counts()"
   ]
  },
  {
   "cell_type": "code",
   "execution_count": 25,
   "metadata": {},
   "outputs": [
    {
     "data": {
      "text/plain": [
       "MORTGAGE    198348\n",
       "RENT        159790\n",
       "OWN          37746\n",
       "OTHER          112\n",
       "NONE            31\n",
       "ANY              3\n",
       "Name: home_ownership, dtype: int64"
      ]
     },
     "execution_count": 25,
     "metadata": {},
     "output_type": "execute_result"
    }
   ],
   "source": [
    "#count for home_ownership\n",
    "data.home_ownership.value_counts()"
   ]
  },
  {
   "cell_type": "code",
   "execution_count": 26,
   "metadata": {},
   "outputs": [],
   "source": [
    "#mering the values that are less than a threshold 10000\n",
    "cond = data['home_ownership'].value_counts()\n",
    "threshold = 10000\n",
    "data['home_ownership'] = np.where(data['home_ownership'].isin(cond.index[cond >= threshold ]), data['home_ownership'], 'others')\n"
   ]
  },
  {
   "cell_type": "code",
   "execution_count": 27,
   "metadata": {},
   "outputs": [
    {
     "data": {
      "text/plain": [
       "MORTGAGE    198348\n",
       "RENT        159790\n",
       "OWN          37746\n",
       "others         146\n",
       "Name: home_ownership, dtype: int64"
      ]
     },
     "execution_count": 27,
     "metadata": {},
     "output_type": "execute_result"
    }
   ],
   "source": [
    "#reverifying the purpose var\n",
    "data.home_ownership.value_counts()"
   ]
  },
  {
   "cell_type": "code",
   "execution_count": 28,
   "metadata": {},
   "outputs": [
    {
     "data": {
      "text/plain": [
       " 36 months    302005\n",
       " 60 months     94025\n",
       "Name: term, dtype: int64"
      ]
     },
     "execution_count": 28,
     "metadata": {},
     "output_type": "execute_result"
    }
   ],
   "source": [
    "#count for term\n",
    "data.term.value_counts()"
   ]
  },
  {
   "cell_type": "code",
   "execution_count": 29,
   "metadata": {},
   "outputs": [
    {
     "data": {
      "text/plain": [
       "Verified           139563\n",
       "Source Verified    131385\n",
       "Not Verified       125082\n",
       "Name: verification_status, dtype: int64"
      ]
     },
     "execution_count": 29,
     "metadata": {},
     "output_type": "execute_result"
    }
   ],
   "source": [
    "#count for verification_status\n",
    "data.verification_status.value_counts()"
   ]
  },
  {
   "cell_type": "code",
   "execution_count": 30,
   "metadata": {},
   "outputs": [
    {
     "data": {
      "text/plain": [
       "Teacher                       4389\n",
       "Manager                       4250\n",
       "Registered Nurse              1856\n",
       "RN                            1846\n",
       "Supervisor                    1830\n",
       "                              ... \n",
       "K&K Technical Group              1\n",
       "Island City Flying Service       1\n",
       "Engr tech                        1\n",
       "Planview Inc                     1\n",
       "Enterprise Strategy Group        1\n",
       "Name: emp_title, Length: 173105, dtype: int64"
      ]
     },
     "execution_count": 30,
     "metadata": {},
     "output_type": "execute_result"
    }
   ],
   "source": [
    "#count for emp_title\n",
    "data.emp_title.value_counts()"
   ]
  },
  {
   "cell_type": "code",
   "execution_count": 31,
   "metadata": {},
   "outputs": [
    {
     "data": {
      "text/plain": [
       "10+ years    126041\n",
       "2 years       35827\n",
       "< 1 year      31725\n",
       "3 years       31665\n",
       "5 years       26495\n",
       "1 year        25882\n",
       "4 years       23952\n",
       "6 years       20841\n",
       "7 years       20819\n",
       "8 years       19168\n",
       "NaN           18301\n",
       "9 years       15314\n",
       "Name: emp_length, dtype: int64"
      ]
     },
     "execution_count": 31,
     "metadata": {},
     "output_type": "execute_result"
    }
   ],
   "source": [
    "#count for emp_length\n",
    "data.emp_length.value_counts(dropna=False)"
   ]
  },
  {
   "cell_type": "code",
   "execution_count": 32,
   "metadata": {},
   "outputs": [
    {
     "data": {
      "text/plain": [
       "Debt consolidation                     152472\n",
       "Credit card refinancing                 51487\n",
       "Home improvement                        15264\n",
       "Other                                   12930\n",
       "Debt Consolidation                      11608\n",
       "                                        ...  \n",
       "New bathroom, new kitchen!                  1\n",
       "Pay off Citicard                            1\n",
       "First consolidation                         1\n",
       "Consolidation of high interest debt         1\n",
       "dept fix                                    1\n",
       "Name: title, Length: 48817, dtype: int64"
      ]
     },
     "execution_count": 32,
     "metadata": {},
     "output_type": "execute_result"
    }
   ],
   "source": [
    "#seeing the title\n",
    "data.title.value_counts()"
   ]
  },
  {
   "cell_type": "code",
   "execution_count": 33,
   "metadata": {},
   "outputs": [],
   "source": [
    "#title coulmn can be removed because purpose col has the same meaning as title"
   ]
  },
  {
   "cell_type": "code",
   "execution_count": 34,
   "metadata": {},
   "outputs": [
    {
     "data": {
      "text/plain": [
       "<AxesSubplot:>"
      ]
     },
     "execution_count": 34,
     "metadata": {},
     "output_type": "execute_result"
    },
    {
     "data": {
      "image/png": "[encoded data removed]",
      "text/plain": [
       "<Figure size 432x288 with 1 Axes>"
      ]
     },
     "metadata": {
      "needs_background": "light"
     },
     "output_type": "display_data"
    }
   ],
   "source": [
    "#seeing the corelation between the loan_status and other variables\n",
    "data.corr()['loan_status'].drop('loan_status').sort_values().plot(kind='barh')"
   ]
  },
  {
   "cell_type": "code",
   "execution_count": 35,
   "metadata": {},
   "outputs": [
    {
     "data": {
      "text/plain": [
       "loan_amnt                   0\n",
       "term                        0\n",
       "int_rate                    0\n",
       "installment                 0\n",
       "grade                       0\n",
       "sub_grade                   0\n",
       "emp_title               22927\n",
       "emp_length              18301\n",
       "home_ownership              0\n",
       "annual_inc                  0\n",
       "verification_status         0\n",
       "issue_d                     0\n",
       "loan_status                 0\n",
       "purpose                     0\n",
       "title                    1755\n",
       "dti                         0\n",
       "earliest_cr_line            0\n",
       "open_acc                    0\n",
       "pub_rec                     0\n",
       "revol_bal                   0\n",
       "revol_util                276\n",
       "total_acc                   0\n",
       "initial_list_status         0\n",
       "application_type            0\n",
       "mort_acc                37795\n",
       "pub_rec_bankruptcies      535\n",
       "address                     0\n",
       "dtype: int64"
      ]
     },
     "execution_count": 35,
     "metadata": {},
     "output_type": "execute_result"
    }
   ],
   "source": [
    "#data preprocessing\n",
    "data.isnull().sum()"
   ]
  },
  {
   "cell_type": "code",
   "execution_count": 36,
   "metadata": {},
   "outputs": [
    {
     "data": {
      "text/plain": [
       "10+ years    126041\n",
       "2 years       35827\n",
       "< 1 year      31725\n",
       "3 years       31665\n",
       "5 years       26495\n",
       "1 year        25882\n",
       "4 years       23952\n",
       "6 years       20841\n",
       "7 years       20819\n",
       "8 years       19168\n",
       "NaN           18301\n",
       "9 years       15314\n",
       "Name: emp_length, dtype: int64"
      ]
     },
     "execution_count": 36,
     "metadata": {},
     "output_type": "execute_result"
    }
   ],
   "source": [
    "#for emp_length\n",
    "data.emp_length.value_counts(dropna=False)"
   ]
  },
  {
   "cell_type": "code",
   "execution_count": 37,
   "metadata": {},
   "outputs": [],
   "source": [
    "#replacing the emp_length values with their numbers\n",
    "data[\"emp_length\"] = data['emp_length'].replace({'2 years': 2, '1 year': 1, '4 years': 4, '8 years': 8,\n",
    "                                                                 '10+ years': 10, '9 years': 9.0, '< 1 year': 0, '6 years': 6,\n",
    "                                                                 '7 years': 7, '3 years': 3, '5 years': 5})"
   ]
  },
  {
   "cell_type": "code",
   "execution_count": 38,
   "metadata": {},
   "outputs": [],
   "source": [
    "#filling missing values with 11 to see the counts of missing value\n",
    "data.emp_length=data.emp_length.fillna(11)"
   ]
  },
  {
   "cell_type": "code",
   "execution_count": 39,
   "metadata": {},
   "outputs": [
    {
     "data": {
      "text/plain": [
       "10.0    126041\n",
       "2.0      35827\n",
       "0.0      31725\n",
       "3.0      31665\n",
       "5.0      26495\n",
       "1.0      25882\n",
       "4.0      23952\n",
       "6.0      20841\n",
       "7.0      20819\n",
       "8.0      19168\n",
       "11.0     18301\n",
       "9.0      15314\n",
       "Name: emp_length, dtype: int64"
      ]
     },
     "execution_count": 39,
     "metadata": {},
     "output_type": "execute_result"
    }
   ],
   "source": [
    "data.emp_length.value_counts()"
   ]
  },
  {
   "cell_type": "code",
   "execution_count": 40,
   "metadata": {},
   "outputs": [
    {
     "name": "stdout",
     "output_type": "stream",
     "text": [
      "\n",
      "\n",
      "--------------------\n",
      "--------------------\n",
      "Visual table without drop for emp_length\n",
      "no of records covered = 396030 out of 396030 i.e. 100.0\n",
      "no of rows:  12\n"
     ]
    },
    {
     "data": {
      "text/html": [
       "<div>\n",
       "<style scoped>\n",
       "    .dataframe tbody tr th:only-of-type {\n",
       "        vertical-align: middle;\n",
       "    }\n",
       "\n",
       "    .dataframe tbody tr th {\n",
       "        vertical-align: top;\n",
       "    }\n",
       "\n",
       "    .dataframe thead th {\n",
       "        text-align: right;\n",
       "    }\n",
       "</style>\n",
       "<table border=\"1\" class=\"dataframe\">\n",
       "  <thead>\n",
       "    <tr style=\"text-align: right;\">\n",
       "      <th></th>\n",
       "      <th>mean</th>\n",
       "      <th>count</th>\n",
       "    </tr>\n",
       "    <tr>\n",
       "      <th>emp_length</th>\n",
       "      <th></th>\n",
       "      <th></th>\n",
       "    </tr>\n",
       "  </thead>\n",
       "  <tbody>\n",
       "    <tr>\n",
       "      <th>10.0</th>\n",
       "      <td>0.184</td>\n",
       "      <td>126041</td>\n",
       "    </tr>\n",
       "    <tr>\n",
       "      <th>6.0</th>\n",
       "      <td>0.189</td>\n",
       "      <td>20841</td>\n",
       "    </tr>\n",
       "    <tr>\n",
       "      <th>4.0</th>\n",
       "      <td>0.192</td>\n",
       "      <td>23952</td>\n",
       "    </tr>\n",
       "    <tr>\n",
       "      <th>5.0</th>\n",
       "      <td>0.192</td>\n",
       "      <td>26495</td>\n",
       "    </tr>\n",
       "    <tr>\n",
       "      <th>2.0</th>\n",
       "      <td>0.193</td>\n",
       "      <td>35827</td>\n",
       "    </tr>\n",
       "    <tr>\n",
       "      <th>3.0</th>\n",
       "      <td>0.195</td>\n",
       "      <td>31665</td>\n",
       "    </tr>\n",
       "    <tr>\n",
       "      <th>7.0</th>\n",
       "      <td>0.195</td>\n",
       "      <td>20819</td>\n",
       "    </tr>\n",
       "    <tr>\n",
       "      <th>1.0</th>\n",
       "      <td>0.199</td>\n",
       "      <td>25882</td>\n",
       "    </tr>\n",
       "    <tr>\n",
       "      <th>8.0</th>\n",
       "      <td>0.200</td>\n",
       "      <td>19168</td>\n",
       "    </tr>\n",
       "    <tr>\n",
       "      <th>9.0</th>\n",
       "      <td>0.200</td>\n",
       "      <td>15314</td>\n",
       "    </tr>\n",
       "    <tr>\n",
       "      <th>0.0</th>\n",
       "      <td>0.207</td>\n",
       "      <td>31725</td>\n",
       "    </tr>\n",
       "    <tr>\n",
       "      <th>11.0</th>\n",
       "      <td>0.275</td>\n",
       "      <td>18301</td>\n",
       "    </tr>\n",
       "  </tbody>\n",
       "</table>\n",
       "</div>"
      ],
      "text/plain": [
       "             mean   count\n",
       "emp_length               \n",
       "10.0        0.184  126041\n",
       "6.0         0.189   20841\n",
       "4.0         0.192   23952\n",
       "5.0         0.192   26495\n",
       "2.0         0.193   35827\n",
       "3.0         0.195   31665\n",
       "7.0         0.195   20819\n",
       "1.0         0.199   25882\n",
       "8.0         0.200   19168\n",
       "9.0         0.200   15314\n",
       "0.0         0.207   31725\n",
       "11.0        0.275   18301"
      ]
     },
     "execution_count": 40,
     "metadata": {},
     "output_type": "execute_result"
    }
   ],
   "source": [
    "#getting the mean value of emp_length with loan_status to impute missing vale '11'\n",
    "get_mean_table(data, \"emp_length\", \"loan_status\", 0.01, rnd = 3, freq= 0, drp_flg = 0)"
   ]
  },
  {
   "cell_type": "code",
   "execution_count": 41,
   "metadata": {},
   "outputs": [
    {
     "data": {
      "text/plain": [
       "loan_amnt                   0\n",
       "term                        0\n",
       "int_rate                    0\n",
       "installment                 0\n",
       "grade                       0\n",
       "sub_grade                   0\n",
       "emp_title               22927\n",
       "emp_length                  0\n",
       "home_ownership              0\n",
       "annual_inc                  0\n",
       "verification_status         0\n",
       "issue_d                     0\n",
       "loan_status                 0\n",
       "purpose                     0\n",
       "title                    1755\n",
       "dti                         0\n",
       "earliest_cr_line            0\n",
       "open_acc                    0\n",
       "pub_rec                     0\n",
       "revol_bal                   0\n",
       "revol_util                276\n",
       "total_acc                   0\n",
       "initial_list_status         0\n",
       "application_type            0\n",
       "mort_acc                37795\n",
       "pub_rec_bankruptcies      535\n",
       "address                     0\n",
       "dtype: int64"
      ]
     },
     "execution_count": 41,
     "metadata": {},
     "output_type": "execute_result"
    }
   ],
   "source": [
    "data.isnull().sum()"
   ]
  },
  {
   "cell_type": "code",
   "execution_count": 42,
   "metadata": {
    "scrolled": true
   },
   "outputs": [
    {
     "data": {
      "text/plain": [
       "<AxesSubplot:>"
      ]
     },
     "execution_count": 42,
     "metadata": {},
     "output_type": "execute_result"
    },
    {
     "data": {
      "image/png": "[encoded data removed]",
      "text/plain": [
       "<Figure size 432x288 with 1 Axes>"
      ]
     },
     "metadata": {
      "needs_background": "light"
     },
     "output_type": "display_data"
    }
   ],
   "source": [
    "#to fill mort_acc we are comparing it with other variables to see the corelation\n",
    "data.corr()['mort_acc'].drop('mort_acc').sort_values().plot(kind='barh')"
   ]
  },
  {
   "cell_type": "code",
   "execution_count": 43,
   "metadata": {},
   "outputs": [],
   "source": [
    "#this shows that total_acc and mort_acc are correalted\n"
   ]
  },
  {
   "cell_type": "code",
   "execution_count": 44,
   "metadata": {},
   "outputs": [
    {
     "data": {
      "text/plain": [
       "total_acc\n",
       "2.0      0.000000\n",
       "3.0      0.052023\n",
       "4.0      0.066743\n",
       "5.0      0.103289\n",
       "6.0      0.151293\n",
       "           ...   \n",
       "124.0    1.000000\n",
       "129.0    1.000000\n",
       "135.0    3.000000\n",
       "150.0    2.000000\n",
       "151.0    0.000000\n",
       "Name: mort_acc, Length: 118, dtype: float64"
      ]
     },
     "execution_count": 44,
     "metadata": {},
     "output_type": "execute_result"
    }
   ],
   "source": [
    "#making bins of total accounts\n",
    "bins = data.groupby(by='total_acc').mean().mort_acc\n",
    "bins"
   ]
  },
  {
   "cell_type": "code",
   "execution_count": 45,
   "metadata": {},
   "outputs": [],
   "source": [
    "#filling the mort_acc with help of total_acc and calculate the mean value for the mort_acc per total_acc entry\n",
    "data['mort_acc'] = data.apply(lambda x: fill_mort_acc(x['total_acc'], x['mort_acc']), axis=1)"
   ]
  },
  {
   "cell_type": "code",
   "execution_count": 46,
   "metadata": {},
   "outputs": [
    {
     "data": {
      "text/plain": [
       "loan_amnt                   0\n",
       "term                        0\n",
       "int_rate                    0\n",
       "installment                 0\n",
       "grade                       0\n",
       "sub_grade                   0\n",
       "emp_title               22927\n",
       "emp_length                  0\n",
       "home_ownership              0\n",
       "annual_inc                  0\n",
       "verification_status         0\n",
       "issue_d                     0\n",
       "loan_status                 0\n",
       "purpose                     0\n",
       "title                    1755\n",
       "dti                         0\n",
       "earliest_cr_line            0\n",
       "open_acc                    0\n",
       "pub_rec                     0\n",
       "revol_bal                   0\n",
       "revol_util                276\n",
       "total_acc                   0\n",
       "initial_list_status         0\n",
       "application_type            0\n",
       "mort_acc                    0\n",
       "pub_rec_bankruptcies      535\n",
       "address                     0\n",
       "dtype: int64"
      ]
     },
     "execution_count": 46,
     "metadata": {},
     "output_type": "execute_result"
    }
   ],
   "source": [
    "data.isnull().sum()"
   ]
  },
  {
   "cell_type": "code",
   "execution_count": 47,
   "metadata": {},
   "outputs": [],
   "source": [
    "#converting the address variable into zipcode because address variable has char values\n",
    "data['zip_code'] = data.address.apply(lambda x: x[-5:])"
   ]
  },
  {
   "cell_type": "code",
   "execution_count": 48,
   "metadata": {},
   "outputs": [
    {
     "data": {
      "text/plain": [
       "70466    56985\n",
       "30723    56546\n",
       "22690    56527\n",
       "48052    55917\n",
       "00813    45824\n",
       "29597    45471\n",
       "05113    45402\n",
       "11650    11226\n",
       "93700    11151\n",
       "86630    10981\n",
       "Name: zip_code, dtype: int64"
      ]
     },
     "execution_count": 48,
     "metadata": {},
     "output_type": "execute_result"
    }
   ],
   "source": [
    "data.zip_code.value_counts()"
   ]
  },
  {
   "cell_type": "code",
   "execution_count": 49,
   "metadata": {},
   "outputs": [],
   "source": [
    "data = pd.get_dummies(data, columns=['zip_code'], drop_first=True)"
   ]
  },
  {
   "cell_type": "code",
   "execution_count": 50,
   "metadata": {},
   "outputs": [],
   "source": [
    "#removing the address var\n",
    "data.drop('address', axis=1, inplace=True)"
   ]
  },
  {
   "cell_type": "code",
   "execution_count": 51,
   "metadata": {},
   "outputs": [
    {
     "data": {
      "text/plain": [
       "loan_amnt                      float64\n",
       "term                            object\n",
       "int_rate                       float64\n",
       "installment                    float64\n",
       "grade                           object\n",
       "sub_grade                       object\n",
       "emp_title                       object\n",
       "emp_length                     float64\n",
       "home_ownership                  object\n",
       "annual_inc                     float64\n",
       "verification_status             object\n",
       "issue_d                 datetime64[ns]\n",
       "loan_status                      int64\n",
       "purpose                         object\n",
       "title                           object\n",
       "dti                            float64\n",
       "earliest_cr_line                object\n",
       "open_acc                       float64\n",
       "pub_rec                        float64\n",
       "revol_bal                      float64\n",
       "revol_util                     float64\n",
       "total_acc                      float64\n",
       "initial_list_status             object\n",
       "application_type                object\n",
       "mort_acc                       float64\n",
       "pub_rec_bankruptcies           float64\n",
       "zip_code_05113                   uint8\n",
       "zip_code_11650                   uint8\n",
       "zip_code_22690                   uint8\n",
       "zip_code_29597                   uint8\n",
       "zip_code_30723                   uint8\n",
       "zip_code_48052                   uint8\n",
       "zip_code_70466                   uint8\n",
       "zip_code_86630                   uint8\n",
       "zip_code_93700                   uint8\n",
       "dtype: object"
      ]
     },
     "execution_count": 51,
     "metadata": {},
     "output_type": "execute_result"
    }
   ],
   "source": [
    "data.dtypes"
   ]
  },
  {
   "cell_type": "code",
   "execution_count": 52,
   "metadata": {},
   "outputs": [
    {
     "name": "stdout",
     "output_type": "stream",
     "text": [
      "10.0 years in this position:\n",
      "0    0.815814\n",
      "1    0.184186\n",
      "Name: loan_status, dtype: float64\n",
      "4.0 years in this position:\n",
      "0    0.807615\n",
      "1    0.192385\n",
      "Name: loan_status, dtype: float64\n",
      "0.0 years in this position:\n",
      "0    0.793128\n",
      "1    0.206872\n",
      "Name: loan_status, dtype: float64\n",
      "6.0 years in this position:\n",
      "0    0.810806\n",
      "1    0.189194\n",
      "Name: loan_status, dtype: float64\n",
      "9.0 years in this position:\n",
      "0    0.79953\n",
      "1    0.20047\n",
      "Name: loan_status, dtype: float64\n",
      "2.0 years in this position:\n",
      "0    0.806738\n",
      "1    0.193262\n",
      "Name: loan_status, dtype: float64\n",
      "3.0 years in this position:\n",
      "0    0.804769\n",
      "1    0.195231\n",
      "Name: loan_status, dtype: float64\n",
      "8.0 years in this position:\n",
      "0    0.80024\n",
      "1    0.19976\n",
      "Name: loan_status, dtype: float64\n",
      "7.0 years in this position:\n",
      "0    0.805226\n",
      "1    0.194774\n",
      "Name: loan_status, dtype: float64\n",
      "5.0 years in this position:\n",
      "0    0.807813\n",
      "1    0.192187\n",
      "Name: loan_status, dtype: float64\n",
      "1.0 years in this position:\n",
      "0    0.800865\n",
      "1    0.199135\n",
      "Name: loan_status, dtype: float64\n",
      "11.0 years in this position:\n",
      "0    0.724714\n",
      "1    0.275286\n",
      "Name: loan_status, dtype: float64\n"
     ]
    }
   ],
   "source": [
    "for year in data.emp_length.unique():\n",
    "    print(f\"{year} years in this position:\")\n",
    "    print(f\"{data[data.emp_length == year].loan_status.value_counts(normalize=True)}\")\n",
    "    "
   ]
  },
  {
   "cell_type": "code",
   "execution_count": 53,
   "metadata": {},
   "outputs": [],
   "source": [
    "#deleting title as it is sub part of purpose\n",
    "del data['title']"
   ]
  },
  {
   "cell_type": "code",
   "execution_count": 54,
   "metadata": {},
   "outputs": [],
   "source": [
    "#Charge off rates are extremely similar across all employment lengths. So we are going to drop the emp_length column."
   ]
  },
  {
   "cell_type": "code",
   "execution_count": 55,
   "metadata": {},
   "outputs": [],
   "source": [
    "del data['emp_length']"
   ]
  },
  {
   "cell_type": "code",
   "execution_count": 56,
   "metadata": {},
   "outputs": [],
   "source": [
    "#because emp_title has too many distinct values hence dummies cannot be created\n",
    "del data['emp_title']"
   ]
  },
  {
   "cell_type": "code",
   "execution_count": 57,
   "metadata": {},
   "outputs": [],
   "source": [
    "#dropping the grade var as it is sub feature of sub_grade\n",
    "del data['grade']"
   ]
  },
  {
   "cell_type": "code",
   "execution_count": 58,
   "metadata": {},
   "outputs": [],
   "source": [
    "#finding the percentage of missing values \n",
    "percent_missing = data.isnull().sum() * 100 / len(data)\n",
    "missing_value_df = pd.DataFrame({'column_name': data.columns,\n",
    "                                 'percent_missing': percent_missing})"
   ]
  },
  {
   "cell_type": "code",
   "execution_count": 59,
   "metadata": {},
   "outputs": [
    {
     "data": {
      "text/html": [
       "<div>\n",
       "<style scoped>\n",
       "    .dataframe tbody tr th:only-of-type {\n",
       "        vertical-align: middle;\n",
       "    }\n",
       "\n",
       "    .dataframe tbody tr th {\n",
       "        vertical-align: top;\n",
       "    }\n",
       "\n",
       "    .dataframe thead th {\n",
       "        text-align: right;\n",
       "    }\n",
       "</style>\n",
       "<table border=\"1\" class=\"dataframe\">\n",
       "  <thead>\n",
       "    <tr style=\"text-align: right;\">\n",
       "      <th></th>\n",
       "      <th>column_name</th>\n",
       "      <th>percent_missing</th>\n",
       "    </tr>\n",
       "  </thead>\n",
       "  <tbody>\n",
       "    <tr>\n",
       "      <th>loan_amnt</th>\n",
       "      <td>loan_amnt</td>\n",
       "      <td>0.000000</td>\n",
       "    </tr>\n",
       "    <tr>\n",
       "      <th>term</th>\n",
       "      <td>term</td>\n",
       "      <td>0.000000</td>\n",
       "    </tr>\n",
       "    <tr>\n",
       "      <th>int_rate</th>\n",
       "      <td>int_rate</td>\n",
       "      <td>0.000000</td>\n",
       "    </tr>\n",
       "    <tr>\n",
       "      <th>installment</th>\n",
       "      <td>installment</td>\n",
       "      <td>0.000000</td>\n",
       "    </tr>\n",
       "    <tr>\n",
       "      <th>sub_grade</th>\n",
       "      <td>sub_grade</td>\n",
       "      <td>0.000000</td>\n",
       "    </tr>\n",
       "    <tr>\n",
       "      <th>home_ownership</th>\n",
       "      <td>home_ownership</td>\n",
       "      <td>0.000000</td>\n",
       "    </tr>\n",
       "    <tr>\n",
       "      <th>annual_inc</th>\n",
       "      <td>annual_inc</td>\n",
       "      <td>0.000000</td>\n",
       "    </tr>\n",
       "    <tr>\n",
       "      <th>verification_status</th>\n",
       "      <td>verification_status</td>\n",
       "      <td>0.000000</td>\n",
       "    </tr>\n",
       "    <tr>\n",
       "      <th>issue_d</th>\n",
       "      <td>issue_d</td>\n",
       "      <td>0.000000</td>\n",
       "    </tr>\n",
       "    <tr>\n",
       "      <th>loan_status</th>\n",
       "      <td>loan_status</td>\n",
       "      <td>0.000000</td>\n",
       "    </tr>\n",
       "    <tr>\n",
       "      <th>purpose</th>\n",
       "      <td>purpose</td>\n",
       "      <td>0.000000</td>\n",
       "    </tr>\n",
       "    <tr>\n",
       "      <th>dti</th>\n",
       "      <td>dti</td>\n",
       "      <td>0.000000</td>\n",
       "    </tr>\n",
       "    <tr>\n",
       "      <th>earliest_cr_line</th>\n",
       "      <td>earliest_cr_line</td>\n",
       "      <td>0.000000</td>\n",
       "    </tr>\n",
       "    <tr>\n",
       "      <th>open_acc</th>\n",
       "      <td>open_acc</td>\n",
       "      <td>0.000000</td>\n",
       "    </tr>\n",
       "    <tr>\n",
       "      <th>pub_rec</th>\n",
       "      <td>pub_rec</td>\n",
       "      <td>0.000000</td>\n",
       "    </tr>\n",
       "    <tr>\n",
       "      <th>revol_bal</th>\n",
       "      <td>revol_bal</td>\n",
       "      <td>0.000000</td>\n",
       "    </tr>\n",
       "    <tr>\n",
       "      <th>revol_util</th>\n",
       "      <td>revol_util</td>\n",
       "      <td>0.069692</td>\n",
       "    </tr>\n",
       "    <tr>\n",
       "      <th>total_acc</th>\n",
       "      <td>total_acc</td>\n",
       "      <td>0.000000</td>\n",
       "    </tr>\n",
       "    <tr>\n",
       "      <th>initial_list_status</th>\n",
       "      <td>initial_list_status</td>\n",
       "      <td>0.000000</td>\n",
       "    </tr>\n",
       "    <tr>\n",
       "      <th>application_type</th>\n",
       "      <td>application_type</td>\n",
       "      <td>0.000000</td>\n",
       "    </tr>\n",
       "    <tr>\n",
       "      <th>mort_acc</th>\n",
       "      <td>mort_acc</td>\n",
       "      <td>0.000000</td>\n",
       "    </tr>\n",
       "    <tr>\n",
       "      <th>pub_rec_bankruptcies</th>\n",
       "      <td>pub_rec_bankruptcies</td>\n",
       "      <td>0.135091</td>\n",
       "    </tr>\n",
       "    <tr>\n",
       "      <th>zip_code_05113</th>\n",
       "      <td>zip_code_05113</td>\n",
       "      <td>0.000000</td>\n",
       "    </tr>\n",
       "    <tr>\n",
       "      <th>zip_code_11650</th>\n",
       "      <td>zip_code_11650</td>\n",
       "      <td>0.000000</td>\n",
       "    </tr>\n",
       "    <tr>\n",
       "      <th>zip_code_22690</th>\n",
       "      <td>zip_code_22690</td>\n",
       "      <td>0.000000</td>\n",
       "    </tr>\n",
       "    <tr>\n",
       "      <th>zip_code_29597</th>\n",
       "      <td>zip_code_29597</td>\n",
       "      <td>0.000000</td>\n",
       "    </tr>\n",
       "    <tr>\n",
       "      <th>zip_code_30723</th>\n",
       "      <td>zip_code_30723</td>\n",
       "      <td>0.000000</td>\n",
       "    </tr>\n",
       "    <tr>\n",
       "      <th>zip_code_48052</th>\n",
       "      <td>zip_code_48052</td>\n",
       "      <td>0.000000</td>\n",
       "    </tr>\n",
       "    <tr>\n",
       "      <th>zip_code_70466</th>\n",
       "      <td>zip_code_70466</td>\n",
       "      <td>0.000000</td>\n",
       "    </tr>\n",
       "    <tr>\n",
       "      <th>zip_code_86630</th>\n",
       "      <td>zip_code_86630</td>\n",
       "      <td>0.000000</td>\n",
       "    </tr>\n",
       "    <tr>\n",
       "      <th>zip_code_93700</th>\n",
       "      <td>zip_code_93700</td>\n",
       "      <td>0.000000</td>\n",
       "    </tr>\n",
       "  </tbody>\n",
       "</table>\n",
       "</div>"
      ],
      "text/plain": [
       "                               column_name  percent_missing\n",
       "loan_amnt                        loan_amnt         0.000000\n",
       "term                                  term         0.000000\n",
       "int_rate                          int_rate         0.000000\n",
       "installment                    installment         0.000000\n",
       "sub_grade                        sub_grade         0.000000\n",
       "home_ownership              home_ownership         0.000000\n",
       "annual_inc                      annual_inc         0.000000\n",
       "verification_status    verification_status         0.000000\n",
       "issue_d                            issue_d         0.000000\n",
       "loan_status                    loan_status         0.000000\n",
       "purpose                            purpose         0.000000\n",
       "dti                                    dti         0.000000\n",
       "earliest_cr_line          earliest_cr_line         0.000000\n",
       "open_acc                          open_acc         0.000000\n",
       "pub_rec                            pub_rec         0.000000\n",
       "revol_bal                        revol_bal         0.000000\n",
       "revol_util                      revol_util         0.069692\n",
       "total_acc                        total_acc         0.000000\n",
       "initial_list_status    initial_list_status         0.000000\n",
       "application_type          application_type         0.000000\n",
       "mort_acc                          mort_acc         0.000000\n",
       "pub_rec_bankruptcies  pub_rec_bankruptcies         0.135091\n",
       "zip_code_05113              zip_code_05113         0.000000\n",
       "zip_code_11650              zip_code_11650         0.000000\n",
       "zip_code_22690              zip_code_22690         0.000000\n",
       "zip_code_29597              zip_code_29597         0.000000\n",
       "zip_code_30723              zip_code_30723         0.000000\n",
       "zip_code_48052              zip_code_48052         0.000000\n",
       "zip_code_70466              zip_code_70466         0.000000\n",
       "zip_code_86630              zip_code_86630         0.000000\n",
       "zip_code_93700              zip_code_93700         0.000000"
      ]
     },
     "execution_count": 59,
     "metadata": {},
     "output_type": "execute_result"
    }
   ],
   "source": [
    "missing_value_df"
   ]
  },
  {
   "cell_type": "code",
   "execution_count": 60,
   "metadata": {},
   "outputs": [],
   "source": [
    "#it is clear that revol_util and pub_rec_bankruptcies has mininmum missing values thus droping the missing values"
   ]
  },
  {
   "cell_type": "code",
   "execution_count": 61,
   "metadata": {},
   "outputs": [
    {
     "data": {
      "text/plain": [
       "loan_amnt                 0\n",
       "term                      0\n",
       "int_rate                  0\n",
       "installment               0\n",
       "sub_grade                 0\n",
       "home_ownership            0\n",
       "annual_inc                0\n",
       "verification_status       0\n",
       "issue_d                   0\n",
       "loan_status               0\n",
       "purpose                   0\n",
       "dti                       0\n",
       "earliest_cr_line          0\n",
       "open_acc                  0\n",
       "pub_rec                   0\n",
       "revol_bal                 0\n",
       "revol_util              276\n",
       "total_acc                 0\n",
       "initial_list_status       0\n",
       "application_type          0\n",
       "mort_acc                  0\n",
       "pub_rec_bankruptcies    535\n",
       "zip_code_05113            0\n",
       "zip_code_11650            0\n",
       "zip_code_22690            0\n",
       "zip_code_29597            0\n",
       "zip_code_30723            0\n",
       "zip_code_48052            0\n",
       "zip_code_70466            0\n",
       "zip_code_86630            0\n",
       "zip_code_93700            0\n",
       "dtype: int64"
      ]
     },
     "execution_count": 61,
     "metadata": {},
     "output_type": "execute_result"
    }
   ],
   "source": [
    "data.isnull().sum()"
   ]
  },
  {
   "cell_type": "code",
   "execution_count": 62,
   "metadata": {},
   "outputs": [],
   "source": [
    "data.dropna(inplace=True)"
   ]
  },
  {
   "cell_type": "code",
   "execution_count": 63,
   "metadata": {},
   "outputs": [],
   "source": [
    "#creating dummy variables of cat var"
   ]
  },
  {
   "cell_type": "code",
   "execution_count": 64,
   "metadata": {},
   "outputs": [
    {
     "data": {
      "text/plain": [
       "loan_amnt                      float64\n",
       "term                            object\n",
       "int_rate                       float64\n",
       "installment                    float64\n",
       "sub_grade                       object\n",
       "home_ownership                  object\n",
       "annual_inc                     float64\n",
       "verification_status             object\n",
       "issue_d                 datetime64[ns]\n",
       "loan_status                      int64\n",
       "purpose                         object\n",
       "dti                            float64\n",
       "earliest_cr_line                object\n",
       "open_acc                       float64\n",
       "pub_rec                        float64\n",
       "revol_bal                      float64\n",
       "revol_util                     float64\n",
       "total_acc                      float64\n",
       "initial_list_status             object\n",
       "application_type                object\n",
       "mort_acc                       float64\n",
       "pub_rec_bankruptcies           float64\n",
       "zip_code_05113                   uint8\n",
       "zip_code_11650                   uint8\n",
       "zip_code_22690                   uint8\n",
       "zip_code_29597                   uint8\n",
       "zip_code_30723                   uint8\n",
       "zip_code_48052                   uint8\n",
       "zip_code_70466                   uint8\n",
       "zip_code_86630                   uint8\n",
       "zip_code_93700                   uint8\n",
       "dtype: object"
      ]
     },
     "execution_count": 64,
     "metadata": {},
     "output_type": "execute_result"
    }
   ],
   "source": [
    "data.dtypes"
   ]
  },
  {
   "cell_type": "code",
   "execution_count": 65,
   "metadata": {},
   "outputs": [],
   "source": [
    "#creating dummy variables for cat var"
   ]
  },
  {
   "cell_type": "code",
   "execution_count": 66,
   "metadata": {},
   "outputs": [],
   "source": [
    "#converting term obj to numeric\n",
    "data[\"term\"] = data['term'].replace({' 36 months': 0, ' 60 months': 1})"
   ]
  },
  {
   "cell_type": "code",
   "execution_count": 67,
   "metadata": {},
   "outputs": [
    {
     "data": {
      "text/plain": [
       "array(['w', 'f'], dtype=object)"
      ]
     },
     "execution_count": 67,
     "metadata": {},
     "output_type": "execute_result"
    }
   ],
   "source": [
    "data.initial_list_status.unique()"
   ]
  },
  {
   "cell_type": "code",
   "execution_count": 68,
   "metadata": {},
   "outputs": [
    {
     "data": {
      "text/plain": [
       "f    237346\n",
       "w    157873\n",
       "Name: initial_list_status, dtype: int64"
      ]
     },
     "execution_count": 68,
     "metadata": {},
     "output_type": "execute_result"
    }
   ],
   "source": [
    "data.initial_list_status.value_counts()"
   ]
  },
  {
   "cell_type": "code",
   "execution_count": 69,
   "metadata": {},
   "outputs": [],
   "source": [
    "#converting initial_list_status obj to numeric\n",
    "data[\"initial_list_status\"] = data['initial_list_status'].replace({'f': 0, 'w': 1})"
   ]
  },
  {
   "cell_type": "code",
   "execution_count": 70,
   "metadata": {},
   "outputs": [
    {
     "data": {
      "text/html": [
       "<div>\n",
       "<style scoped>\n",
       "    .dataframe tbody tr th:only-of-type {\n",
       "        vertical-align: middle;\n",
       "    }\n",
       "\n",
       "    .dataframe tbody tr th {\n",
       "        vertical-align: top;\n",
       "    }\n",
       "\n",
       "    .dataframe thead th {\n",
       "        text-align: right;\n",
       "    }\n",
       "</style>\n",
       "<table border=\"1\" class=\"dataframe\">\n",
       "  <thead>\n",
       "    <tr style=\"text-align: right;\">\n",
       "      <th></th>\n",
       "      <th>loan_amnt</th>\n",
       "      <th>term</th>\n",
       "      <th>int_rate</th>\n",
       "      <th>installment</th>\n",
       "      <th>sub_grade</th>\n",
       "      <th>home_ownership</th>\n",
       "      <th>annual_inc</th>\n",
       "      <th>verification_status</th>\n",
       "      <th>issue_d</th>\n",
       "      <th>loan_status</th>\n",
       "      <th>...</th>\n",
       "      <th>pub_rec_bankruptcies</th>\n",
       "      <th>zip_code_05113</th>\n",
       "      <th>zip_code_11650</th>\n",
       "      <th>zip_code_22690</th>\n",
       "      <th>zip_code_29597</th>\n",
       "      <th>zip_code_30723</th>\n",
       "      <th>zip_code_48052</th>\n",
       "      <th>zip_code_70466</th>\n",
       "      <th>zip_code_86630</th>\n",
       "      <th>zip_code_93700</th>\n",
       "    </tr>\n",
       "  </thead>\n",
       "  <tbody>\n",
       "    <tr>\n",
       "      <th>0</th>\n",
       "      <td>10000.0</td>\n",
       "      <td>0</td>\n",
       "      <td>11.44</td>\n",
       "      <td>329.48</td>\n",
       "      <td>8</td>\n",
       "      <td>RENT</td>\n",
       "      <td>117000.0</td>\n",
       "      <td>Not Verified</td>\n",
       "      <td>2015-01-01</td>\n",
       "      <td>0</td>\n",
       "      <td>...</td>\n",
       "      <td>0.0</td>\n",
       "      <td>0</td>\n",
       "      <td>0</td>\n",
       "      <td>1</td>\n",
       "      <td>0</td>\n",
       "      <td>0</td>\n",
       "      <td>0</td>\n",
       "      <td>0</td>\n",
       "      <td>0</td>\n",
       "      <td>0</td>\n",
       "    </tr>\n",
       "    <tr>\n",
       "      <th>1</th>\n",
       "      <td>8000.0</td>\n",
       "      <td>0</td>\n",
       "      <td>11.99</td>\n",
       "      <td>265.68</td>\n",
       "      <td>9</td>\n",
       "      <td>MORTGAGE</td>\n",
       "      <td>65000.0</td>\n",
       "      <td>Not Verified</td>\n",
       "      <td>2015-01-01</td>\n",
       "      <td>0</td>\n",
       "      <td>...</td>\n",
       "      <td>0.0</td>\n",
       "      <td>1</td>\n",
       "      <td>0</td>\n",
       "      <td>0</td>\n",
       "      <td>0</td>\n",
       "      <td>0</td>\n",
       "      <td>0</td>\n",
       "      <td>0</td>\n",
       "      <td>0</td>\n",
       "      <td>0</td>\n",
       "    </tr>\n",
       "    <tr>\n",
       "      <th>2</th>\n",
       "      <td>15600.0</td>\n",
       "      <td>0</td>\n",
       "      <td>10.49</td>\n",
       "      <td>506.97</td>\n",
       "      <td>7</td>\n",
       "      <td>RENT</td>\n",
       "      <td>43057.0</td>\n",
       "      <td>Source Verified</td>\n",
       "      <td>2015-01-01</td>\n",
       "      <td>0</td>\n",
       "      <td>...</td>\n",
       "      <td>0.0</td>\n",
       "      <td>1</td>\n",
       "      <td>0</td>\n",
       "      <td>0</td>\n",
       "      <td>0</td>\n",
       "      <td>0</td>\n",
       "      <td>0</td>\n",
       "      <td>0</td>\n",
       "      <td>0</td>\n",
       "      <td>0</td>\n",
       "    </tr>\n",
       "    <tr>\n",
       "      <th>3</th>\n",
       "      <td>7200.0</td>\n",
       "      <td>0</td>\n",
       "      <td>6.49</td>\n",
       "      <td>220.65</td>\n",
       "      <td>1</td>\n",
       "      <td>RENT</td>\n",
       "      <td>54000.0</td>\n",
       "      <td>Not Verified</td>\n",
       "      <td>2014-11-01</td>\n",
       "      <td>0</td>\n",
       "      <td>...</td>\n",
       "      <td>0.0</td>\n",
       "      <td>0</td>\n",
       "      <td>0</td>\n",
       "      <td>0</td>\n",
       "      <td>0</td>\n",
       "      <td>0</td>\n",
       "      <td>0</td>\n",
       "      <td>0</td>\n",
       "      <td>0</td>\n",
       "      <td>0</td>\n",
       "    </tr>\n",
       "    <tr>\n",
       "      <th>4</th>\n",
       "      <td>24375.0</td>\n",
       "      <td>1</td>\n",
       "      <td>17.27</td>\n",
       "      <td>609.33</td>\n",
       "      <td>14</td>\n",
       "      <td>MORTGAGE</td>\n",
       "      <td>55000.0</td>\n",
       "      <td>Verified</td>\n",
       "      <td>2013-04-01</td>\n",
       "      <td>1</td>\n",
       "      <td>...</td>\n",
       "      <td>0.0</td>\n",
       "      <td>0</td>\n",
       "      <td>1</td>\n",
       "      <td>0</td>\n",
       "      <td>0</td>\n",
       "      <td>0</td>\n",
       "      <td>0</td>\n",
       "      <td>0</td>\n",
       "      <td>0</td>\n",
       "      <td>0</td>\n",
       "    </tr>\n",
       "  </tbody>\n",
       "</table>\n",
       "<p>5 rows × 31 columns</p>\n",
       "</div>"
      ],
      "text/plain": [
       "   loan_amnt  term  int_rate  installment  sub_grade home_ownership  \\\n",
       "0    10000.0     0     11.44       329.48          8           RENT   \n",
       "1     8000.0     0     11.99       265.68          9       MORTGAGE   \n",
       "2    15600.0     0     10.49       506.97          7           RENT   \n",
       "3     7200.0     0      6.49       220.65          1           RENT   \n",
       "4    24375.0     1     17.27       609.33         14       MORTGAGE   \n",
       "\n",
       "   annual_inc verification_status    issue_d  loan_status  ...  \\\n",
       "0    117000.0        Not Verified 2015-01-01            0  ...   \n",
       "1     65000.0        Not Verified 2015-01-01            0  ...   \n",
       "2     43057.0     Source Verified 2015-01-01            0  ...   \n",
       "3     54000.0        Not Verified 2014-11-01            0  ...   \n",
       "4     55000.0            Verified 2013-04-01            1  ...   \n",
       "\n",
       "  pub_rec_bankruptcies  zip_code_05113 zip_code_11650  zip_code_22690  \\\n",
       "0                  0.0               0              0               1   \n",
       "1                  0.0               1              0               0   \n",
       "2                  0.0               1              0               0   \n",
       "3                  0.0               0              0               0   \n",
       "4                  0.0               0              1               0   \n",
       "\n",
       "   zip_code_29597  zip_code_30723  zip_code_48052  zip_code_70466  \\\n",
       "0               0               0               0               0   \n",
       "1               0               0               0               0   \n",
       "2               0               0               0               0   \n",
       "3               0               0               0               0   \n",
       "4               0               0               0               0   \n",
       "\n",
       "   zip_code_86630 zip_code_93700  \n",
       "0               0              0  \n",
       "1               0              0  \n",
       "2               0              0  \n",
       "3               0              0  \n",
       "4               0              0  \n",
       "\n",
       "[5 rows x 31 columns]"
      ]
     },
     "execution_count": 70,
     "metadata": {},
     "output_type": "execute_result"
    }
   ],
   "source": [
    "#label encoding is done in alphabetical order so doing encoding for sub_grade\n",
    "from sklearn import preprocessing\n",
    "le1 = preprocessing.LabelEncoder()\n",
    "le1.fit(data['sub_grade'])\n",
    "this_class = le1.classes_\n",
    "data['sub_grade'] = le1.transform(data['sub_grade'])\n",
    "data.head()"
   ]
  },
  {
   "cell_type": "code",
   "execution_count": 71,
   "metadata": {},
   "outputs": [
    {
     "name": "stdout",
     "output_type": "stream",
     "text": [
      "\n",
      "\n",
      "--------------------\n",
      "--------------------\n",
      "Dummies for purpose\n",
      "no of new columns from purpose is 1\n",
      "['credit_card']\n",
      "\n",
      "\n",
      "--------------------\n",
      "--------------------\n",
      "Dummies for purpose\n",
      "no of new columns from purpose is 1\n",
      "['home_improvement']\n",
      "\n",
      "\n",
      "--------------------\n",
      "--------------------\n",
      "Dummies for purpose\n",
      "no of new columns from purpose is 1\n",
      "['other']\n",
      "\n",
      "\n",
      "--------------------\n",
      "--------------------\n",
      "Dummies for purpose\n",
      "no of new columns from purpose is 1\n",
      "['debt_consolidation']\n"
     ]
    }
   ],
   "source": [
    "#cdummies for purpose\n",
    "data[\"purpose\"].value_counts(dropna=False)\n",
    "\n",
    "for i in ['credit_card','home_improvement','other', 'debt_consolidation']:\n",
    "    drop = ['credit_card','home_improvement','miscellaneous','other', 'debt_consolidation']\n",
    "    drop.remove(i)\n",
    "    name = \"purpose\" + i\n",
    "    data[name] = getting_dummies(data,'purpose',freq = 0, drp_flg = False, drp = drop)\n",
    "    data[name] = data[name].fillna(0)"
   ]
  },
  {
   "cell_type": "code",
   "execution_count": 72,
   "metadata": {},
   "outputs": [
    {
     "name": "stdout",
     "output_type": "stream",
     "text": [
      "\n",
      "\n",
      "--------------------\n",
      "--------------------\n",
      "Dummies for home_ownership\n",
      "no of new columns from home_ownership is 1\n",
      "['MORTGAGE']\n",
      "\n",
      "\n",
      "--------------------\n",
      "--------------------\n",
      "Dummies for home_ownership\n",
      "no of new columns from home_ownership is 1\n",
      "['RENT']\n",
      "\n",
      "\n",
      "--------------------\n",
      "--------------------\n",
      "Dummies for home_ownership\n",
      "no of new columns from home_ownership is 1\n",
      "['OWN']\n"
     ]
    }
   ],
   "source": [
    "for i in ['MORTGAGE', 'RENT','OWN']:\n",
    "    drop = ['MORTGAGE', 'RENT','OWN','others']\n",
    "    drop.remove(i)\n",
    "    name = \"home_ownership_\" + i\n",
    "    data[name] = getting_dummies(data,'home_ownership',freq = 0, drp_flg = False, drp = drop)\n",
    "    data[name] = data[name].fillna(0)"
   ]
  },
  {
   "cell_type": "code",
   "execution_count": 73,
   "metadata": {},
   "outputs": [],
   "source": [
    "data[\"verification_status\"] = data['verification_status'].replace({'Source Verified': 1, 'Verified': 1, 'Not Verified': 0})"
   ]
  },
  {
   "cell_type": "code",
   "execution_count": 74,
   "metadata": {},
   "outputs": [],
   "source": [
    "data[\"application_type\"] = data[\"application_type\"].replace({'JOINT': 0, 'INDIVIDUAL': 1,'DIRECT_PAY': 2})"
   ]
  },
  {
   "cell_type": "code",
   "execution_count": 75,
   "metadata": {},
   "outputs": [],
   "source": [
    "data = pd.get_dummies(data, columns=['application_type'], drop_first=True)"
   ]
  },
  {
   "cell_type": "code",
   "execution_count": 76,
   "metadata": {},
   "outputs": [],
   "source": [
    "data = pd.get_dummies(data, columns=['sub_grade'], drop_first=True)"
   ]
  },
  {
   "cell_type": "code",
   "execution_count": 77,
   "metadata": {},
   "outputs": [],
   "source": [
    "data = pd.get_dummies(data, columns=['verification_status'], drop_first=True)"
   ]
  },
  {
   "cell_type": "code",
   "execution_count": 78,
   "metadata": {},
   "outputs": [],
   "source": [
    "data = pd.get_dummies(data, columns=['initial_list_status'], drop_first=True)"
   ]
  },
  {
   "cell_type": "code",
   "execution_count": null,
   "metadata": {},
   "outputs": [],
   "source": [
    "data.head()"
   ]
  },
  {
   "cell_type": "code",
   "execution_count": null,
   "metadata": {},
   "outputs": [],
   "source": [
    "data.shape"
   ]
  },
  {
   "cell_type": "code",
   "execution_count": null,
   "metadata": {},
   "outputs": [],
   "source": [
    "data.dtypes"
   ]
  },
  {
   "cell_type": "code",
   "execution_count": null,
   "metadata": {},
   "outputs": [],
   "source": [
    "data.isnull().sum()"
   ]
  },
  {
   "cell_type": "code",
   "execution_count": 79,
   "metadata": {},
   "outputs": [],
   "source": [
    "for i in ['home_ownership','purpose']:\n",
    "    del data[i]"
   ]
  },
  {
   "cell_type": "code",
   "execution_count": 80,
   "metadata": {},
   "outputs": [],
   "source": [
    "#converting earliest_cr_line to numeric\n",
    "data['earliest_cr_line'] = data.earliest_cr_line.str.split('-', expand=True)[1]"
   ]
  },
  {
   "cell_type": "code",
   "execution_count": 81,
   "metadata": {},
   "outputs": [],
   "source": [
    "#dividing data into equal no of 0 and 1\n",
    "dataforsep = data[data.loan_status==0]"
   ]
  },
  {
   "cell_type": "code",
   "execution_count": 82,
   "metadata": {},
   "outputs": [],
   "source": [
    "# three dataframes from undersampling\n",
    "sz = dataforsep.shape[0] - data[data.loan_status==1].shape[0]\n",
    "\n",
    "drp_id = np.random.choice(dataforsep.index, size = sz, replace = False)\n",
    "data1 = data.drop(drp_id, axis = 0)\n",
    "data1 = data1.reset_index(drop = True)\n",
    "\n",
    "drp_id = np.random.choice(dataforsep.index, size = sz, replace = False)\n",
    "data2 = data.drop(drp_id, axis = 0)\n",
    "data2 = data2.reset_index(drop = True)\n",
    "\n",
    "drp_id = np.random.choice(dataforsep.index, size = sz, replace = False)\n",
    "data3 = data.drop(drp_id, axis = 0)\n",
    "data3 = data3.reset_index(drop = True)"
   ]
  },
  {
   "cell_type": "code",
   "execution_count": 83,
   "metadata": {},
   "outputs": [],
   "source": [
    "#removing isuess date\n",
    "data1 = data1.drop([\"issue_d\"], axis = 1)\n",
    "data2 = data2.drop([\"issue_d\"], axis = 1)\n",
    "data3 = data3.drop([\"issue_d\"], axis = 1)\n",
    "data1 = data1.drop([\"earliest_cr_line\"], axis = 1)\n",
    "data2 = data2.drop([\"earliest_cr_line\"], axis = 1)\n",
    "data3 = data3.drop([\"earliest_cr_line\"], axis = 1)\n",
    "\n",
    "\n"
   ]
  },
  {
   "cell_type": "code",
   "execution_count": 84,
   "metadata": {},
   "outputs": [],
   "source": [
    "data1_x, data1_y = data1.drop(\"loan_status\",axis = 1), data1['loan_status']\n",
    "data2_x, data2_y = data2.drop(\"loan_status\",axis = 1), data2['loan_status']\n",
    "data3_x, data3_y = data3.drop(\"loan_status\",axis = 1), data3['loan_status']"
   ]
  },
  {
   "cell_type": "code",
   "execution_count": 85,
   "metadata": {},
   "outputs": [],
   "source": [
    "data1_train_x, data1_test_x, data1_train_y, data1_test_y = train_test_split(data1_x, data1_y, test_size=0.3, random_state=42, stratify=data1_y)\n",
    "data1_train_x, data1_test_x, data1_train_y, data1_test_y = data1_train_x.reset_index(drop = True), data1_test_x.reset_index(drop = True), data1_train_y, data1_test_y.reset_index(drop = True)\n",
    "\n",
    "data2_train_x, data2_test_x, data2_train_y, data2_test_y = train_test_split(data2_x, data2_y, test_size=0.3, random_state=42, stratify=data2_y)\n",
    "data2_train_x, data2_test_x, data2_train_y, data2_test_y = data2_train_x.reset_index(drop = True), data2_test_x.reset_index(drop = True), data2_train_y, data2_test_y.reset_index(drop = True)\n",
    "\n",
    "data3_train_x, data3_test_x, data3_train_y, data3_test_y = train_test_split(data3_x, data3_y, test_size=0.3, random_state=42, stratify=data3_y)\n",
    "data3_train_x, data3_test_x, data3_train_y, data3_test_y = data3_train_x.reset_index(drop = True), data3_test_x.reset_index(drop = True), data3_train_y, data3_test_y.reset_index(drop = True)"
   ]
  },
  {
   "cell_type": "code",
   "execution_count": 88,
   "metadata": {},
   "outputs": [],
   "source": [
    "#keeping columns for standardizition \n",
    "data1_train_x.columns\n",
    "cols = ['loan_amnt', 'installment','int_rate', 'annual_inc',\n",
    "        'dti', \n",
    "         'open_acc', 'pub_rec', 'revol_bal', 'revol_util',\n",
    "        'total_acc','mort_acc' ,'pub_rec_bankruptcies']\n"
   ]
  },
  {
   "cell_type": "code",
   "execution_count": 89,
   "metadata": {},
   "outputs": [],
   "source": [
    "sc = StandardScaler()\n",
    "sc.fit(data1_train_x[cols])\n",
    "temp_train = pd.DataFrame(sc.transform(X = data1_train_x[cols]), columns = cols)\n",
    "temp_test = pd.DataFrame(sc.transform(X = data1_test_x[cols]), columns = cols)\n",
    "data1_train_x.drop(cols, axis = 1, inplace = True)\n",
    "data1_test_x.drop(cols, axis = 1, inplace = True)\n",
    "data1_train_x = pd.concat([data1_train_x, temp_train], axis = 1)\n",
    "data1_test_x = pd.concat([data1_test_x, temp_test], axis = 1)\n",
    "\n"
   ]
  },
  {
   "cell_type": "code",
   "execution_count": 90,
   "metadata": {},
   "outputs": [],
   "source": [
    "#keeping columns for standardizition \n",
    "data1_train_x.columns\n",
    "cols = ['loan_amnt', 'installment','int_rate', 'annual_inc',\n",
    "        'dti', \n",
    "         'open_acc', 'pub_rec', 'revol_bal', 'revol_util',\n",
    "        'total_acc','mort_acc' ,'pub_rec_bankruptcies']\n"
   ]
  },
  {
   "cell_type": "code",
   "execution_count": 91,
   "metadata": {},
   "outputs": [],
   "source": [
    "sc = StandardScaler()\n",
    "sc.fit(data1_train_x[cols])\n",
    "temp_train = pd.DataFrame(sc.transform(X = data1_train_x[cols]), columns = cols)\n",
    "temp_test = pd.DataFrame(sc.transform(X = data1_test_x[cols]), columns = cols)\n",
    "data1_train_x.drop(cols, axis = 1, inplace = True)\n",
    "data1_test_x.drop(cols, axis = 1, inplace = True)\n",
    "data1_train_x = pd.concat([data1_train_x, temp_train], axis = 1)\n",
    "data1_test_x = pd.concat([data1_test_x, temp_test], axis = 1)\n",
    "\n"
   ]
  },
  {
   "cell_type": "code",
   "execution_count": 92,
   "metadata": {},
   "outputs": [],
   "source": [
    "#keeping columns for standardizition \n",
    "data1_train_x.columns\n",
    "cols = ['loan_amnt', 'installment','int_rate', 'annual_inc',\n",
    "        'dti', \n",
    "         'open_acc', 'pub_rec', 'revol_bal', 'revol_util',\n",
    "        'total_acc','mort_acc' ,'pub_rec_bankruptcies']\n"
   ]
  },
  {
   "cell_type": "code",
   "execution_count": 93,
   "metadata": {},
   "outputs": [],
   "source": [
    "sc = StandardScaler()\n",
    "sc.fit(data1_train_x[cols])\n",
    "temp_train = pd.DataFrame(sc.transform(X = data1_train_x[cols]), columns = cols)\n",
    "temp_test = pd.DataFrame(sc.transform(X = data1_test_x[cols]), columns = cols)\n",
    "data1_train_x.drop(cols, axis = 1, inplace = True)\n",
    "data1_test_x.drop(cols, axis = 1, inplace = True)\n",
    "data1_train_x = pd.concat([data1_train_x, temp_train], axis = 1)\n",
    "data1_test_x = pd.concat([data1_test_x, temp_test], axis = 1)\n",
    "\n"
   ]
  },
  {
   "cell_type": "code",
   "execution_count": 94,
   "metadata": {},
   "outputs": [],
   "source": [
    "#logistic regression\n",
    "logisticmodel1= LogisticRegression()\n",
    "logisticmodel1.fit(data1_train_x,data1_train_y)\n",
    "Y_pred=logisticmodel1.predict(data1_test_x);"
   ]
  },
  {
   "cell_type": "code",
   "execution_count": 95,
   "metadata": {},
   "outputs": [
    {
     "name": "stdout",
     "output_type": "stream",
     "text": [
      "[[18561  4696]\n",
      " [ 4392 18865]]\n",
      "Classification Report : \n",
      "              precision    recall  f1-score   support\n",
      "\n",
      "           0       0.81      0.80      0.80     23257\n",
      "           1       0.80      0.81      0.81     23257\n",
      "\n",
      "    accuracy                           0.80     46514\n",
      "   macro avg       0.80      0.80      0.80     46514\n",
      "weighted avg       0.80      0.80      0.80     46514\n",
      "\n",
      "Accuracy of the model :  0.8046179644838113\n"
     ]
    }
   ],
   "source": [
    "from sklearn.metrics import confusion_matrix, accuracy_score, classification_report;\n",
    "cfm = confusion_matrix(data1_test_y,Y_pred);\n",
    "print(cfm);\n",
    "print(\"Classification Report : \");\n",
    "print(classification_report(data1_test_y,Y_pred));\n",
    "acc = accuracy_score(data1_test_y,Y_pred);\n",
    "print(\"Accuracy of the model : \",acc);"
   ]
  },
  {
   "cell_type": "code",
   "execution_count": 96,
   "metadata": {},
   "outputs": [],
   "source": [
    "#logistic regression\n",
    "logisticmodel1= LogisticRegression()\n",
    "logisticmodel1.fit(data2_train_x,data2_train_y)\n",
    "Y_pred=logisticmodel1.predict(data2_test_x);"
   ]
  },
  {
   "cell_type": "code",
   "execution_count": 97,
   "metadata": {},
   "outputs": [
    {
     "name": "stdout",
     "output_type": "stream",
     "text": [
      "[[11056 12201]\n",
      " [ 6743 16514]]\n",
      "Classification Report : \n",
      "              precision    recall  f1-score   support\n",
      "\n",
      "           0       0.62      0.48      0.54     23257\n",
      "           1       0.58      0.71      0.64     23257\n",
      "\n",
      "    accuracy                           0.59     46514\n",
      "   macro avg       0.60      0.59      0.59     46514\n",
      "weighted avg       0.60      0.59      0.59     46514\n",
      "\n",
      "Accuracy of the model :  0.5927247710366771\n"
     ]
    }
   ],
   "source": [
    "from sklearn.metrics import confusion_matrix, accuracy_score, classification_report;\n",
    "cfm = confusion_matrix(data2_test_y,Y_pred);\n",
    "print(cfm);\n",
    "print(\"Classification Report : \");\n",
    "print(classification_report(data2_test_y,Y_pred));\n",
    "acc = accuracy_score(data2_test_y,Y_pred);\n",
    "print(\"Accuracy of the model : \",acc);"
   ]
  },
  {
   "cell_type": "code",
   "execution_count": 98,
   "metadata": {},
   "outputs": [],
   "source": [
    "#logistic regression\n",
    "logisticmodel1= LogisticRegression()\n",
    "logisticmodel1.fit(data3_train_x,data3_train_y)\n",
    "Y_pred=logisticmodel1.predict(data3_test_x);"
   ]
  },
  {
   "cell_type": "code",
   "execution_count": 99,
   "metadata": {},
   "outputs": [
    {
     "name": "stdout",
     "output_type": "stream",
     "text": [
      "[[12213 11044]\n",
      " [ 7080 16177]]\n",
      "Classification Report : \n",
      "              precision    recall  f1-score   support\n",
      "\n",
      "           0       0.63      0.53      0.57     23257\n",
      "           1       0.59      0.70      0.64     23257\n",
      "\n",
      "    accuracy                           0.61     46514\n",
      "   macro avg       0.61      0.61      0.61     46514\n",
      "weighted avg       0.61      0.61      0.61     46514\n",
      "\n",
      "Accuracy of the model :  0.6103538719525304\n"
     ]
    }
   ],
   "source": [
    "from sklearn.metrics import confusion_matrix, accuracy_score, classification_report;\n",
    "cfm = confusion_matrix(data3_test_y,Y_pred);\n",
    "print(cfm);\n",
    "print(\"Classification Report : \");\n",
    "print(classification_report(data3_test_y,Y_pred));\n",
    "acc = accuracy_score(data3_test_y,Y_pred);\n",
    "print(\"Accuracy of the model : \",acc);"
   ]
  },
  {
   "cell_type": "code",
   "execution_count": 110,
   "metadata": {},
   "outputs": [
    {
     "name": "stdout",
     "output_type": "stream",
     "text": [
      "[22:51:43] WARNING: C:/Users/Administrator/workspace/xgboost-win64_release_1.4.0/src/learner.cc:1095: Starting in XGBoost 1.3.0, the default evaluation metric used with the objective 'binary:logistic' was changed from 'error' to 'logloss'. Explicitly set eval_metric if you'd like to restore the old behavior.\n"
     ]
    }
   ],
   "source": [
    "#xgboost\n",
    "rf= XGBClassifier()\n",
    "rf.fit(data1_train_x,data1_train_y)\n",
    "Y_pred=rf.predict(data1_test_x);"
   ]
  },
  {
   "cell_type": "code",
   "execution_count": 111,
   "metadata": {},
   "outputs": [
    {
     "name": "stdout",
     "output_type": "stream",
     "text": [
      "[[18676  4581]\n",
      " [ 4498 18759]]\n",
      "Classification Report : \n",
      "              precision    recall  f1-score   support\n",
      "\n",
      "           0       0.81      0.80      0.80     23257\n",
      "           1       0.80      0.81      0.81     23257\n",
      "\n",
      "    accuracy                           0.80     46514\n",
      "   macro avg       0.80      0.80      0.80     46514\n",
      "weighted avg       0.80      0.80      0.80     46514\n",
      "\n",
      "Accuracy of the model :  0.8048114546158146\n"
     ]
    }
   ],
   "source": [
    "from sklearn.metrics import confusion_matrix, accuracy_score, classification_report;\n",
    "cfm = confusion_matrix(data1_test_y,Y_pred);\n",
    "print(cfm);\n",
    "print(\"Classification Report : \");\n",
    "print(classification_report(data1_test_y,Y_pred));\n",
    "acc = accuracy_score(data1_test_y,Y_pred);\n",
    "print(\"Accuracy of the model : \",acc);"
   ]
  },
  {
   "cell_type": "code",
   "execution_count": 112,
   "metadata": {},
   "outputs": [
    {
     "name": "stdout",
     "output_type": "stream",
     "text": [
      "[22:52:07] WARNING: C:/Users/Administrator/workspace/xgboost-win64_release_1.4.0/src/learner.cc:1095: Starting in XGBoost 1.3.0, the default evaluation metric used with the objective 'binary:logistic' was changed from 'error' to 'logloss'. Explicitly set eval_metric if you'd like to restore the old behavior.\n"
     ]
    }
   ],
   "source": [
    "#xgboost\n",
    "rf= XGBClassifier()\n",
    "rf.fit(data2_train_x,data2_train_y)\n",
    "Y_pred=rf.predict(data2_test_x);"
   ]
  },
  {
   "cell_type": "code",
   "execution_count": 113,
   "metadata": {},
   "outputs": [
    {
     "name": "stdout",
     "output_type": "stream",
     "text": [
      "[[18532  4725]\n",
      " [ 4341 18916]]\n",
      "Classification Report : \n",
      "              precision    recall  f1-score   support\n",
      "\n",
      "           0       0.81      0.80      0.80     23257\n",
      "           1       0.80      0.81      0.81     23257\n",
      "\n",
      "    accuracy                           0.81     46514\n",
      "   macro avg       0.81      0.81      0.81     46514\n",
      "weighted avg       0.81      0.81      0.81     46514\n",
      "\n",
      "Accuracy of the model :  0.8050909403620415\n"
     ]
    }
   ],
   "source": [
    "from sklearn.metrics import confusion_matrix, accuracy_score, classification_report;\n",
    "cfm = confusion_matrix(data2_test_y,Y_pred);\n",
    "print(cfm);\n",
    "print(\"Classification Report : \");\n",
    "print(classification_report(data2_test_y,Y_pred));\n",
    "acc = accuracy_score(data2_test_y,Y_pred);\n",
    "print(\"Accuracy of the model : \",acc);"
   ]
  },
  {
   "cell_type": "code",
   "execution_count": 114,
   "metadata": {},
   "outputs": [
    {
     "name": "stdout",
     "output_type": "stream",
     "text": [
      "[22:52:36] WARNING: C:/Users/Administrator/workspace/xgboost-win64_release_1.4.0/src/learner.cc:1095: Starting in XGBoost 1.3.0, the default evaluation metric used with the objective 'binary:logistic' was changed from 'error' to 'logloss'. Explicitly set eval_metric if you'd like to restore the old behavior.\n"
     ]
    }
   ],
   "source": [
    "#xgboost\n",
    "rf= XGBClassifier()\n",
    "rf.fit(data3_train_x,data3_train_y)\n",
    "Y_pred=rf.predict(data2_test_x);"
   ]
  },
  {
   "cell_type": "code",
   "execution_count": 115,
   "metadata": {},
   "outputs": [
    {
     "name": "stdout",
     "output_type": "stream",
     "text": [
      "[[18761  4496]\n",
      " [ 4433 18824]]\n",
      "Classification Report : \n",
      "              precision    recall  f1-score   support\n",
      "\n",
      "           0       0.81      0.81      0.81     23257\n",
      "           1       0.81      0.81      0.81     23257\n",
      "\n",
      "    accuracy                           0.81     46514\n",
      "   macro avg       0.81      0.81      0.81     46514\n",
      "weighted avg       0.81      0.81      0.81     46514\n",
      "\n",
      "Accuracy of the model :  0.8080362901492024\n"
     ]
    }
   ],
   "source": [
    "from sklearn.metrics import confusion_matrix, accuracy_score, classification_report;\n",
    "cfm = confusion_matrix(data3_test_y,Y_pred);\n",
    "print(cfm);\n",
    "print(\"Classification Report : \");\n",
    "print(classification_report(data3_test_y,Y_pred));\n",
    "acc = accuracy_score(data3_test_y,Y_pred);\n",
    "print(\"Accuracy of the model : \",acc);"
   ]
  },
  {
   "cell_type": "code",
   "execution_count": 101,
   "metadata": {},
   "outputs": [],
   "source": [
    "#random forest\n",
    "rdf= RandomForestClassifier()\n",
    "rdf.fit(data1_train_x,data1_train_y)\n",
    "Y_pred=rdf.predict(data1_test_x);"
   ]
  },
  {
   "cell_type": "code",
   "execution_count": 102,
   "metadata": {},
   "outputs": [
    {
     "name": "stdout",
     "output_type": "stream",
     "text": [
      "[[19223  4034]\n",
      " [ 5515 17742]]\n",
      "Classification Report : \n",
      "              precision    recall  f1-score   support\n",
      "\n",
      "           0       0.78      0.83      0.80     23257\n",
      "           1       0.81      0.76      0.79     23257\n",
      "\n",
      "    accuracy                           0.79     46514\n",
      "   macro avg       0.80      0.79      0.79     46514\n",
      "weighted avg       0.80      0.79      0.79     46514\n",
      "\n",
      "Accuracy of the model :  0.7947069699445328\n"
     ]
    }
   ],
   "source": [
    "from sklearn.metrics import confusion_matrix, accuracy_score, classification_report;\n",
    "cfm = confusion_matrix(data1_test_y,Y_pred);\n",
    "print(cfm);\n",
    "print(\"Classification Report : \");\n",
    "print(classification_report(data1_test_y,Y_pred));\n",
    "acc = accuracy_score(data1_test_y,Y_pred);\n",
    "print(\"Accuracy of the model : \",acc);"
   ]
  },
  {
   "cell_type": "code",
   "execution_count": 104,
   "metadata": {},
   "outputs": [],
   "source": [
    "#random forest\n",
    "rdf= RandomForestClassifier()\n",
    "rdf.fit(data2_train_x,data2_train_y)\n",
    "Y_pred=rdf.predict(data2_test_x);"
   ]
  },
  {
   "cell_type": "code",
   "execution_count": 105,
   "metadata": {},
   "outputs": [
    {
     "name": "stdout",
     "output_type": "stream",
     "text": [
      "[[19094  4163]\n",
      " [ 5394 17863]]\n",
      "Classification Report : \n",
      "              precision    recall  f1-score   support\n",
      "\n",
      "           0       0.78      0.82      0.80     23257\n",
      "           1       0.81      0.77      0.79     23257\n",
      "\n",
      "    accuracy                           0.79     46514\n",
      "   macro avg       0.80      0.79      0.79     46514\n",
      "weighted avg       0.80      0.79      0.79     46514\n",
      "\n",
      "Accuracy of the model :  0.7945349787160855\n"
     ]
    }
   ],
   "source": [
    "from sklearn.metrics import confusion_matrix, accuracy_score, classification_report;\n",
    "cfm = confusion_matrix(data2_test_y,Y_pred);\n",
    "print(cfm);\n",
    "print(\"Classification Report : \");\n",
    "print(classification_report(data2_test_y,Y_pred));\n",
    "acc = accuracy_score(data2_test_y,Y_pred);\n",
    "print(\"Accuracy of the model : \",acc);"
   ]
  },
  {
   "cell_type": "code",
   "execution_count": 106,
   "metadata": {},
   "outputs": [],
   "source": [
    "#random forest\n",
    "rdf= RandomForestClassifier()\n",
    "rdf.fit(data3_train_x,data3_train_y)\n",
    "Y_pred=rdf.predict(data3_test_x);"
   ]
  },
  {
   "cell_type": "code",
   "execution_count": 107,
   "metadata": {},
   "outputs": [
    {
     "name": "stdout",
     "output_type": "stream",
     "text": [
      "[[19184  4073]\n",
      " [ 5430 17827]]\n",
      "Classification Report : \n",
      "              precision    recall  f1-score   support\n",
      "\n",
      "           0       0.78      0.82      0.80     23257\n",
      "           1       0.81      0.77      0.79     23257\n",
      "\n",
      "    accuracy                           0.80     46514\n",
      "   macro avg       0.80      0.80      0.80     46514\n",
      "weighted avg       0.80      0.80      0.80     46514\n",
      "\n",
      "Accuracy of the model :  0.795695919508105\n"
     ]
    }
   ],
   "source": [
    "from sklearn.metrics import confusion_matrix, accuracy_score, classification_report;\n",
    "cfm = confusion_matrix(data3_test_y,Y_pred);\n",
    "print(cfm);\n",
    "print(\"Classification Report : \");\n",
    "print(classification_report(data3_test_y,Y_pred));\n",
    "acc = accuracy_score(data3_test_y,Y_pred);\n",
    "print(\"Accuracy of the model : \",acc);"
   ]
  },
  {
   "cell_type": "code",
   "execution_count": null,
   "metadata": {},
   "outputs": [],
   "source": []
  }
 ],
 "metadata": {
  "kernelspec": {
   "display_name": "Python 3",
   "language": "python",
   "name": "python3"
  },
  "language_info": {
   "codemirror_mode": {
    "name": "ipython",
    "version": 3
   },
   "file_extension": ".py",
   "mimetype": "text/x-python",
   "name": "python",
   "nbconvert_exporter": "python",
   "pygments_lexer": "ipython3",
   "version": "3.8.5"
  }
 },
 "nbformat": 4,
 "nbformat_minor": 4
}
